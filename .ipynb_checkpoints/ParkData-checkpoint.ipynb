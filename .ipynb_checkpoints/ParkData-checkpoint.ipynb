{
 "cells": [
  {
   "cell_type": "markdown",
   "metadata": {},
   "source": [
    "# Parks - Rin Tena #\n",
    "The dataset I chose to analyze was the \"Parks\" dataset in attempts to find the best neighborhood in Pittsburgh for a penguin to live. In this case, the \"best neighborhood\" will be defined as the neighborhood that provides the most park space for the penguin to forage, find rocks, and wander. "
   ]
  },
  {
   "cell_type": "code",
   "execution_count": 1,
   "metadata": {},
   "outputs": [
    {
     "data": {
      "text/html": [
       "<div>\n",
       "<style scoped>\n",
       "    .dataframe tbody tr th:only-of-type {\n",
       "        vertical-align: middle;\n",
       "    }\n",
       "\n",
       "    .dataframe tbody tr th {\n",
       "        vertical-align: top;\n",
       "    }\n",
       "\n",
       "    .dataframe thead th {\n",
       "        text-align: right;\n",
       "    }\n",
       "</style>\n",
       "<table border=\"1\" class=\"dataframe\">\n",
       "  <thead>\n",
       "    <tr style=\"text-align: right;\">\n",
       "      <th></th>\n",
       "      <th>_id</th>\n",
       "      <th>objectid_1</th>\n",
       "      <th>objectid</th>\n",
       "      <th>acreage</th>\n",
       "      <th>sqft</th>\n",
       "      <th>final_cat</th>\n",
       "      <th>type</th>\n",
       "      <th>sector</th>\n",
       "      <th>origpkname</th>\n",
       "      <th>updatepknm</th>\n",
       "      <th>...</th>\n",
       "      <th>globalid</th>\n",
       "      <th>created_user</th>\n",
       "      <th>created_date</th>\n",
       "      <th>last_edited_user</th>\n",
       "      <th>last_edited_date</th>\n",
       "      <th>maintenanceresponsibility</th>\n",
       "      <th>dpw_ac</th>\n",
       "      <th>globalid_1</th>\n",
       "      <th>shape_area</th>\n",
       "      <th>shape_length</th>\n",
       "    </tr>\n",
       "  </thead>\n",
       "  <tbody>\n",
       "    <tr>\n",
       "      <th>0</th>\n",
       "      <td>9373</td>\n",
       "      <td>1202</td>\n",
       "      <td>36.0</td>\n",
       "      <td>0.959034</td>\n",
       "      <td>41775.367101</td>\n",
       "      <td>Neighborhood Park</td>\n",
       "      <td>NP</td>\n",
       "      <td>15.0</td>\n",
       "      <td>Cliffside Parklet</td>\n",
       "      <td>August Wilson Park</td>\n",
       "      <td>...</td>\n",
       "      <td>764d9a2f-719c-49c2-b747-8f276149bf04</td>\n",
       "      <td>pgh.dcp.allisot</td>\n",
       "      <td>2023-08-02T14:10:28.845000+00:00</td>\n",
       "      <td>pgh.dcp.allisot</td>\n",
       "      <td>2023-08-02T14:10:28.845000+00:00</td>\n",
       "      <td>Parks - Schenley</td>\n",
       "      <td>0.959034</td>\n",
       "      <td>f781af9c-9ec2-4b5e-b5c5-9cc21608635c</td>\n",
       "      <td>6709.199219</td>\n",
       "      <td>390.397012</td>\n",
       "    </tr>\n",
       "    <tr>\n",
       "      <th>1</th>\n",
       "      <td>9374</td>\n",
       "      <td>1203</td>\n",
       "      <td>198.0</td>\n",
       "      <td>2.060117</td>\n",
       "      <td>89738.347520</td>\n",
       "      <td>Neighborhood Park</td>\n",
       "      <td>NP</td>\n",
       "      <td>2.0</td>\n",
       "      <td>Young Field</td>\n",
       "      <td>Young Field Park</td>\n",
       "      <td>...</td>\n",
       "      <td>9b969f67-1f2e-4f4b-8556-e4ac49ca208e</td>\n",
       "      <td>pgh.dcp.allisot</td>\n",
       "      <td>2023-08-02T14:10:28.845000+00:00</td>\n",
       "      <td>pgh.dcp.allisot</td>\n",
       "      <td>2023-08-02T14:10:28.845000+00:00</td>\n",
       "      <td>Parks - Riverview</td>\n",
       "      <td>2.060117</td>\n",
       "      <td>659c4c55-50fc-4883-8606-76f029fcca47</td>\n",
       "      <td>14423.417969</td>\n",
       "      <td>511.980181</td>\n",
       "    </tr>\n",
       "    <tr>\n",
       "      <th>2</th>\n",
       "      <td>9375</td>\n",
       "      <td>1204</td>\n",
       "      <td>158.0</td>\n",
       "      <td>0.468682</td>\n",
       "      <td>20415.724875</td>\n",
       "      <td>Neighborhood Park</td>\n",
       "      <td>NP</td>\n",
       "      <td>8.0</td>\n",
       "      <td>Revenue Park</td>\n",
       "      <td>Roland Lockridge Community Park</td>\n",
       "      <td>...</td>\n",
       "      <td>44bbbdf5-c2db-451c-b880-9251b8211455</td>\n",
       "      <td>pgh.dcp.allisot</td>\n",
       "      <td>2023-08-02T14:10:28.845000+00:00</td>\n",
       "      <td>pgh.dcp.allisot</td>\n",
       "      <td>2023-08-02T14:10:28.845000+00:00</td>\n",
       "      <td>Parks - Frick</td>\n",
       "      <td>0.468682</td>\n",
       "      <td>04e61cab-bea6-47dd-964a-0723197726cf</td>\n",
       "      <td>3273.722656</td>\n",
       "      <td>236.488235</td>\n",
       "    </tr>\n",
       "    <tr>\n",
       "      <th>3</th>\n",
       "      <td>9376</td>\n",
       "      <td>1205</td>\n",
       "      <td>72.0</td>\n",
       "      <td>1.955430</td>\n",
       "      <td>85178.182207</td>\n",
       "      <td>Neighborhood Park</td>\n",
       "      <td>NP</td>\n",
       "      <td>12.0</td>\n",
       "      <td>Friendship Park</td>\n",
       "      <td>Friendship Park</td>\n",
       "      <td>...</td>\n",
       "      <td>f95cbafc-dcd8-493f-8b98-89745c6434ca</td>\n",
       "      <td>pgh.dcp.allisot</td>\n",
       "      <td>2023-08-02T14:10:28.845000+00:00</td>\n",
       "      <td>pgh.dcp.allisot</td>\n",
       "      <td>2023-08-02T14:10:28.845000+00:00</td>\n",
       "      <td>Parks - Highland</td>\n",
       "      <td>1.955430</td>\n",
       "      <td>22563a68-61d3-46f3-9d5c-4558ee12be1f</td>\n",
       "      <td>13686.265625</td>\n",
       "      <td>760.982871</td>\n",
       "    </tr>\n",
       "    <tr>\n",
       "      <th>4</th>\n",
       "      <td>9377</td>\n",
       "      <td>1206</td>\n",
       "      <td>87.0</td>\n",
       "      <td>5.108070</td>\n",
       "      <td>222506.623799</td>\n",
       "      <td>Neighborhood Park</td>\n",
       "      <td>NP</td>\n",
       "      <td>12.0</td>\n",
       "      <td>Heths Playground</td>\n",
       "      <td>Heth's Park</td>\n",
       "      <td>...</td>\n",
       "      <td>a6a4ac92-5a00-4af5-9f11-716e51079fea</td>\n",
       "      <td>pgh.dcp.allisot</td>\n",
       "      <td>2023-08-02T14:10:28.845000+00:00</td>\n",
       "      <td>pgh.dcp.allisot</td>\n",
       "      <td>2023-08-02T14:10:28.845000+00:00</td>\n",
       "      <td>Parks - Highland</td>\n",
       "      <td>5.108070</td>\n",
       "      <td>b5b34833-e1d5-430f-afcc-40a1670d545d</td>\n",
       "      <td>35767.898438</td>\n",
       "      <td>875.156997</td>\n",
       "    </tr>\n",
       "  </tbody>\n",
       "</table>\n",
       "<p>5 rows × 23 columns</p>\n",
       "</div>"
      ],
      "text/plain": [
       "    _id  objectid_1  objectid   acreage           sqft          final_cat  \\\n",
       "0  9373        1202      36.0  0.959034   41775.367101  Neighborhood Park   \n",
       "1  9374        1203     198.0  2.060117   89738.347520  Neighborhood Park   \n",
       "2  9375        1204     158.0  0.468682   20415.724875  Neighborhood Park   \n",
       "3  9376        1205      72.0  1.955430   85178.182207  Neighborhood Park   \n",
       "4  9377        1206      87.0  5.108070  222506.623799  Neighborhood Park   \n",
       "\n",
       "  type  sector         origpkname                       updatepknm  ...  \\\n",
       "0   NP    15.0  Cliffside Parklet               August Wilson Park  ...   \n",
       "1   NP     2.0        Young Field                 Young Field Park  ...   \n",
       "2   NP     8.0       Revenue Park  Roland Lockridge Community Park  ...   \n",
       "3   NP    12.0    Friendship Park                  Friendship Park  ...   \n",
       "4   NP    12.0   Heths Playground                      Heth's Park  ...   \n",
       "\n",
       "                               globalid     created_user  \\\n",
       "0  764d9a2f-719c-49c2-b747-8f276149bf04  pgh.dcp.allisot   \n",
       "1  9b969f67-1f2e-4f4b-8556-e4ac49ca208e  pgh.dcp.allisot   \n",
       "2  44bbbdf5-c2db-451c-b880-9251b8211455  pgh.dcp.allisot   \n",
       "3  f95cbafc-dcd8-493f-8b98-89745c6434ca  pgh.dcp.allisot   \n",
       "4  a6a4ac92-5a00-4af5-9f11-716e51079fea  pgh.dcp.allisot   \n",
       "\n",
       "                       created_date last_edited_user  \\\n",
       "0  2023-08-02T14:10:28.845000+00:00  pgh.dcp.allisot   \n",
       "1  2023-08-02T14:10:28.845000+00:00  pgh.dcp.allisot   \n",
       "2  2023-08-02T14:10:28.845000+00:00  pgh.dcp.allisot   \n",
       "3  2023-08-02T14:10:28.845000+00:00  pgh.dcp.allisot   \n",
       "4  2023-08-02T14:10:28.845000+00:00  pgh.dcp.allisot   \n",
       "\n",
       "                   last_edited_date maintenanceresponsibility    dpw_ac  \\\n",
       "0  2023-08-02T14:10:28.845000+00:00          Parks - Schenley  0.959034   \n",
       "1  2023-08-02T14:10:28.845000+00:00         Parks - Riverview  2.060117   \n",
       "2  2023-08-02T14:10:28.845000+00:00             Parks - Frick  0.468682   \n",
       "3  2023-08-02T14:10:28.845000+00:00          Parks - Highland  1.955430   \n",
       "4  2023-08-02T14:10:28.845000+00:00          Parks - Highland  5.108070   \n",
       "\n",
       "                             globalid_1    shape_area  shape_length  \n",
       "0  f781af9c-9ec2-4b5e-b5c5-9cc21608635c   6709.199219    390.397012  \n",
       "1  659c4c55-50fc-4883-8606-76f029fcca47  14423.417969    511.980181  \n",
       "2  04e61cab-bea6-47dd-964a-0723197726cf   3273.722656    236.488235  \n",
       "3  22563a68-61d3-46f3-9d5c-4558ee12be1f  13686.265625    760.982871  \n",
       "4  b5b34833-e1d5-430f-afcc-40a1670d545d  35767.898438    875.156997  \n",
       "\n",
       "[5 rows x 23 columns]"
      ]
     },
     "execution_count": 1,
     "metadata": {},
     "output_type": "execute_result"
    }
   ],
   "source": [
    "import pandas as pd\n",
    "import geopandas\n",
    "import numpy as np\n",
    "%matplotlib inline\n",
    "import matplotlib.pyplot as plt\n",
    "\n",
    "hoods = pd.read_csv(\"Neighborhoods.csv\")\n",
    "data = pd.read_csv(\"parks.csv\")\n",
    "data.head()"
   ]
  },
  {
   "cell_type": "markdown",
   "metadata": {},
   "source": [
    "Importing Pandas and checking to see the parks.csv was properly downloaded. "
   ]
  },
  {
   "cell_type": "code",
   "execution_count": 2,
   "metadata": {},
   "outputs": [
    {
     "name": "stdout",
     "output_type": "stream",
     "text": [
      "         updatepknm     acreage\n",
      "93       Hays Woods  637.409429\n",
      "81       Frick Park  606.639071\n",
      "171   Schenley Park  434.082623\n",
      "99    Highland Park  377.910577\n",
      "165  Riverview Park  258.604289\n"
     ]
    }
   ],
   "source": [
    "#sort data by the park name and add up each acreage\n",
    "acre = data.groupby(\"updatepknm\", as_index =False)['acreage'].sum().sort_values(['acreage'],ascending=False)\n",
    "acre['acreage']=acre['acreage'].astype(object)\n",
    "#Only save the data from the top 5 parks\n",
    "acre = acre.head()\n",
    "print(acre)"
   ]
  },
  {
   "cell_type": "markdown",
   "metadata": {},
   "source": [
    "Sorting the data by park name and acreage. This shows the top 5 parks with the most area. "
   ]
  },
  {
   "cell_type": "code",
   "execution_count": 3,
   "metadata": {},
   "outputs": [
    {
     "data": {
      "text/plain": [
       "<matplotlib.axes._subplots.AxesSubplot at 0x7f77207008b0>"
      ]
     },
     "execution_count": 3,
     "metadata": {},
     "output_type": "execute_result"
    },
    {
     "data": {
      "image/png": "[encoded data removed]",
      "text/plain": [
       "<Figure size 432x288 with 1 Axes>"
      ]
     },
     "metadata": {
      "needs_background": "light"
     },
     "output_type": "display_data"
    }
   ],
   "source": [
    "#filter by square feet of park and print top five parks\n",
    "park_size = data.pivot(columns=\"updatepknm\", values=\"sqft\").sum()\n",
    "all_park_size = park_size.sort_values(ascending=False)\n",
    "park_size = all_park_size.head()\n",
    "park_size.plot(kind=\"bar\")"
   ]
  },
  {
   "cell_type": "markdown",
   "metadata": {},
   "source": [
    "The five parks with the most acreage are Hays Woods, Frick Park, Schenley Park, Highland Park, and Riverview Park respectively. Now, let's see which neighborhoods corrilate with these parks. "
   ]
  },
  {
   "cell_type": "code",
   "execution_count": 21,
   "metadata": {},
   "outputs": [
    {
     "data": {
      "text/plain": [
       "<matplotlib.axes._subplots.AxesSubplot at 0x7f771fa27340>"
      ]
     },
     "execution_count": 21,
     "metadata": {},
     "output_type": "execute_result"
    },
    {
     "data": {
      "image/png": "[encoded data removed]",
      "text/plain": [
       "<Figure size 432x288 with 1 Axes>"
      ]
     },
     "metadata": {
      "needs_background": "light"
     },
     "output_type": "display_data"
    }
   ],
   "source": [
    "parks = geopandas.read_file(\"pghMaps/PGHWebParks.shp\")\n",
    "parks.plot()"
   ]
  },
  {
   "cell_type": "markdown",
   "metadata": {},
   "source": [
    "I loaded in the map of the parks and ensured it was working by plotting it. "
   ]
  },
  {
   "cell_type": "code",
   "execution_count": 23,
   "metadata": {},
   "outputs": [
    {
     "data": {
      "text/html": [
       "<div>\n",
       "<style scoped>\n",
       "    .dataframe tbody tr th:only-of-type {\n",
       "        vertical-align: middle;\n",
       "    }\n",
       "\n",
       "    .dataframe tbody tr th {\n",
       "        vertical-align: top;\n",
       "    }\n",
       "\n",
       "    .dataframe thead th {\n",
       "        text-align: right;\n",
       "    }\n",
       "</style>\n",
       "<table border=\"1\" class=\"dataframe\">\n",
       "  <thead>\n",
       "    <tr style=\"text-align: right;\">\n",
       "      <th></th>\n",
       "      <th>updatepknm</th>\n",
       "      <th>sqft</th>\n",
       "      <th>geometry</th>\n",
       "    </tr>\n",
       "  </thead>\n",
       "  <tbody>\n",
       "    <tr>\n",
       "      <th>0</th>\n",
       "      <td>August Wilson Park</td>\n",
       "      <td>41775.367101</td>\n",
       "      <td>POLYGON ((-79.98614 40.44665, -79.98613 40.446...</td>\n",
       "    </tr>\n",
       "    <tr>\n",
       "      <th>1</th>\n",
       "      <td>Young Field Park</td>\n",
       "      <td>89738.347520</td>\n",
       "      <td>POLYGON ((-80.03313 40.47289, -80.03314 40.473...</td>\n",
       "    </tr>\n",
       "    <tr>\n",
       "      <th>2</th>\n",
       "      <td>Roland Lockridge Community Park</td>\n",
       "      <td>20415.724875</td>\n",
       "      <td>POLYGON ((-79.92039 40.39402, -79.92047 40.393...</td>\n",
       "    </tr>\n",
       "    <tr>\n",
       "      <th>3</th>\n",
       "      <td>Friendship Park</td>\n",
       "      <td>85178.182207</td>\n",
       "      <td>POLYGON ((-79.94539 40.46264, -79.94486 40.462...</td>\n",
       "    </tr>\n",
       "    <tr>\n",
       "      <th>4</th>\n",
       "      <td>Heth's Park</td>\n",
       "      <td>222506.623799</td>\n",
       "      <td>POLYGON ((-79.92675 40.47832, -79.92722 40.477...</td>\n",
       "    </tr>\n",
       "  </tbody>\n",
       "</table>\n",
       "</div>"
      ],
      "text/plain": [
       "                        updatepknm           sqft  \\\n",
       "0               August Wilson Park   41775.367101   \n",
       "1                 Young Field Park   89738.347520   \n",
       "2  Roland Lockridge Community Park   20415.724875   \n",
       "3                  Friendship Park   85178.182207   \n",
       "4                      Heth's Park  222506.623799   \n",
       "\n",
       "                                            geometry  \n",
       "0  POLYGON ((-79.98614 40.44665, -79.98613 40.446...  \n",
       "1  POLYGON ((-80.03313 40.47289, -80.03314 40.473...  \n",
       "2  POLYGON ((-79.92039 40.39402, -79.92047 40.393...  \n",
       "3  POLYGON ((-79.94539 40.46264, -79.94486 40.462...  \n",
       "4  POLYGON ((-79.92675 40.47832, -79.92722 40.477...  "
      ]
     },
     "execution_count": 23,
     "metadata": {},
     "output_type": "execute_result"
    }
   ],
   "source": [
    "#merge parks and acre\n",
    "colored = parks.merge(acre, how='left', left_on='updatepknm', right_on='updatepknm')\n",
    "colored[['updatepknm','sqft','geometry']].head()"
   ]
  },
  {
   "cell_type": "markdown",
   "metadata": {},
   "source": [
    "Here are the parks and shapefile being combined."
   ]
  },
  {
   "cell_type": "code",
   "execution_count": 24,
   "metadata": {},
   "outputs": [
    {
     "data": {
      "text/plain": [
       "<matplotlib.axes._subplots.AxesSubplot at 0x7f771f1c8070>"
      ]
     },
     "execution_count": 24,
     "metadata": {},
     "output_type": "execute_result"
    },
    {
     "data": {
      "image/png": "[encoded data removed]",
      "text/plain": [
       "<Figure size 432x288 with 2 Axes>"
      ]
     },
     "metadata": {
      "needs_background": "light"
     },
     "output_type": "display_data"
    }
   ],
   "source": [
    "#map of all the parks in pittsburgh\n",
    "colored.plot(column='sqft',cmap='OrRd', legend=True)"
   ]
  },
  {
   "cell_type": "markdown",
   "metadata": {},
   "source": [
    "As you can see, the map is incomplete, as there are not parks all over Pittsburgh. If we compare this map with the map of neighborhoods, however, we can see which areas these parks belong to. We know from before that the plot with the largest area of land is Hays Woods, so perhaps there is a neighborhood by the same name. "
   ]
  },
  {
   "cell_type": "code",
   "execution_count": 16,
   "metadata": {},
   "outputs": [
    {
     "name": "stdout",
     "output_type": "stream",
     "text": [
      "                   hood   _id\n",
      "32             Fineview  2829\n",
      "71     South Side Flats  2828\n",
      "29              Elliott  2827\n",
      "82      Terrace Village  2826\n",
      "65        Regent Square  2825\n",
      "..                  ...   ...\n",
      "43            Knoxville  2744\n",
      "6     Bedford Dwellings  2743\n",
      "34             Garfield  2742\n",
      "75  Squirrel Hill North  2741\n",
      "63   Point Breeze North  2740\n",
      "\n",
      "[90 rows x 2 columns]\n"
     ]
    }
   ],
   "source": [
    "#hoodNames = hoods.pivot(columns=\"hood\", values=\"_id\").sum()\n",
    "hoodNames = hoods.groupby(\"hood\", as_index =False)['_id'].sum().sort_values(['_id'],ascending=False)\n",
    "print(hoodNames)"
   ]
  },
  {
   "cell_type": "markdown",
   "metadata": {},
   "source": [
    "Pivoting the data so that the neighborhood names are shown. "
   ]
  },
  {
   "cell_type": "code",
   "execution_count": 17,
   "metadata": {},
   "outputs": [
    {
     "name": "stdout",
     "output_type": "stream",
     "text": [
      "    hood   _id\n",
      "37  Hays  2765\n"
     ]
    }
   ],
   "source": [
    "#Search for the neighborhood by the park\n",
    "search_value = 'Hays'\n",
    "result = hoodNames[hoodNames['hood'] == search_value]\n",
    "print(result)"
   ]
  },
  {
   "cell_type": "markdown",
   "metadata": {},
   "source": [
    "The neighborhood Hays is closest to the largest park in pittsburgh: Hays Woods."
   ]
  },
  {
   "cell_type": "markdown",
   "metadata": {},
   "source": [
    "### Conclusion ###\n",
    "The Best neighborhood in Pittsburgh for a penguin to live is Hays according to this data set because it contains the biggest Park in the city."
   ]
  },
  {
   "cell_type": "code",
   "execution_count": null,
   "metadata": {},
   "outputs": [],
   "source": []
  }
 ],
 "metadata": {
  "kernelspec": {
   "display_name": "Python 3",
   "language": "python",
   "name": "python3"
  },
  "language_info": {
   "codemirror_mode": {
    "name": "ipython",
    "version": 3
   },
   "file_extension": ".py",
   "mimetype": "text/x-python",
   "name": "python",
   "nbconvert_exporter": "python",
   "pygments_lexer": "ipython3",
   "version": "3.8.3"
  }
 },
 "nbformat": 4,
 "nbformat_minor": 4
}
