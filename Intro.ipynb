{
 "cells": [
  {
   "cell_type": "markdown",
   "metadata": {},
   "source": [
    "## Introduction ##\n",
    "Earning the title for the best neighborhood in Pittsburgh is difficult, as there are many great areas in the city. In our case, we are searching for the best neighborhood for Penguins to live. We came up with this metic when deciding on a name. We asked Chat GPT initally, but none of the names meshed well with us. We then decided to be named after a simple animal, with the AI giving us \"penguins.\" Thus, both our team name and metric were born. This was our first idea, so we decided to run with it rather than spending a lot of time coming up with ideas."
   ]
  }
 ],
 "metadata": {
  "kernelspec": {
   "display_name": "Python 3",
   "language": "python",
   "name": "python3"
  },
  "language_info": {
   "codemirror_mode": {
    "name": "ipython",
    "version": 3
   },
   "file_extension": ".py",
   "mimetype": "text/x-python",
   "name": "python",
   "nbconvert_exporter": "python",
   "pygments_lexer": "ipython3",
   "version": "3.8.3"
  }
 },
 "nbformat": 4,
 "nbformat_minor": 4
}
