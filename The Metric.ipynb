{
 "cells": [
  {
   "cell_type": "markdown",
   "metadata": {},
   "source": [
    "As stated in our introduction, our metric to determine the \"best neighborhood\" in Pittsburgh is the neighborhood in which a Penguin can thrive in. As a result, we are measuring the capacity of pools, slopes, and consensus of each neighborhood in order to acurately determine the \"best neighborhood.\" The datasets we are using are \"City of Pittsburgh Pools,\" \"25% or Greater Slope,\" and \"2010 Census Tracts.\"  "
   ]
  }
 ],
 "metadata": {
  "kernelspec": {
   "display_name": "Python 3",
   "language": "python",
   "name": "python3"
  },
  "language_info": {
   "codemirror_mode": {
    "name": "ipython",
    "version": 3
   },
   "file_extension": ".py",
   "mimetype": "text/x-python",
   "name": "python",
   "nbconvert_exporter": "python",
   "pygments_lexer": "ipython3",
   "version": "3.8.3"
  }
 },
 "nbformat": 4,
 "nbformat_minor": 4
}
