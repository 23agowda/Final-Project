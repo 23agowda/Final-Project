{
 "cells": [
  {
   "cell_type": "markdown",
   "metadata": {},
   "source": [
    "## Introduction ##\n",
    "Earning the title for the best neighborhood in Pittsburgh is difficult, as there are many great areas in the city. In our case, we are searching for the best neighborhood for Penguins to live. We came up with this metic when deciding on a name. We asked Chat GPT initally, but none of the names meshed well with us. We then decided to be named after a simple animal, with the AI giving us \"penguins.\" Thus, both our team name and metric were born. This was our first idea, so we decided to run with it rather than spending a lot of time coming up with ideas."
   ]
  },
  {
   "cell_type": "markdown",
   "metadata": {},
   "source": [
    "### Metric"
   ]
  },
  {
   "cell_type": "markdown",
   "metadata": {},
   "source": [
    "As stated in our introduction, our metric to determine the \"best neighborhood\" in Pittsburgh is the neighborhood in which a Penguin can thrive in. As a result, we are measuring the capacities of pools, park acres, and census of each neighborhood in order to acurately determine the \"best neighborhood.\" The datasets we are using are \"City of Pittsburgh Pools,\" \"Parks,\" and \"2010 Census Tracts.\"  "
   ]
  },
  {
   "cell_type": "code",
   "execution_count": 19,
   "metadata": {},
   "outputs": [],
   "source": [
    "import pandas as pd\n",
    "import geopandas as gpd\n",
    "%matplotlib inline\n",
    "import matplotlib.pyplot as plt"
   ]
  },
  {
   "cell_type": "markdown",
   "metadata": {},
   "source": [
    "Importing in pandas, matplotlib, and geopandas."
   ]
  },
  {
   "cell_type": "markdown",
   "metadata": {},
   "source": [
    "## Pool Capacities- Anushka\n",
    "\n",
    "The data subset I chose to analyze in order to determine which neighborhood is the best for a penguin to live in is the City of Pittsburgh Pools. The \"best neighborhood\" is the neighborhood with the pool that holds the greatest capacity. "
   ]
  },
  {
   "cell_type": "code",
   "execution_count": 57,
   "metadata": {},
   "outputs": [
    {
     "data": {
      "text/html": [
       "<div>\n",
       "<style scoped>\n",
       "    .dataframe tbody tr th:only-of-type {\n",
       "        vertical-align: middle;\n",
       "    }\n",
       "\n",
       "    .dataframe tbody tr th {\n",
       "        vertical-align: top;\n",
       "    }\n",
       "\n",
       "    .dataframe thead th {\n",
       "        text-align: right;\n",
       "    }\n",
       "</style>\n",
       "<table border=\"1\" class=\"dataframe\">\n",
       "  <thead>\n",
       "    <tr style=\"text-align: right;\">\n",
       "      <th></th>\n",
       "      <th>_id</th>\n",
       "      <th>id</th>\n",
       "      <th>name</th>\n",
       "      <th>type</th>\n",
       "      <th>retired</th>\n",
       "      <th>water_source</th>\n",
       "      <th>capacity</th>\n",
       "      <th>image</th>\n",
       "      <th>council_district</th>\n",
       "      <th>ward</th>\n",
       "      <th>tract</th>\n",
       "      <th>public_works_division</th>\n",
       "      <th>pli_division</th>\n",
       "      <th>police_zone</th>\n",
       "      <th>fire_zone</th>\n",
       "      <th>latitude</th>\n",
       "      <th>longitude</th>\n",
       "    </tr>\n",
       "    <tr>\n",
       "      <th>neighborhood</th>\n",
       "      <th></th>\n",
       "      <th></th>\n",
       "      <th></th>\n",
       "      <th></th>\n",
       "      <th></th>\n",
       "      <th></th>\n",
       "      <th></th>\n",
       "      <th></th>\n",
       "      <th></th>\n",
       "      <th></th>\n",
       "      <th></th>\n",
       "      <th></th>\n",
       "      <th></th>\n",
       "      <th></th>\n",
       "      <th></th>\n",
       "      <th></th>\n",
       "      <th></th>\n",
       "    </tr>\n",
       "  </thead>\n",
       "  <tbody>\n",
       "    <tr>\n",
       "      <th>Bedford Dwellings</th>\n",
       "      <td>1</td>\n",
       "      <td>899591542</td>\n",
       "      <td>Ammon</td>\n",
       "      <td>Pool</td>\n",
       "      <td>NaN</td>\n",
       "      <td>Pittsburgh Water and Sewer Authority</td>\n",
       "      <td>538000.0</td>\n",
       "      <td>https://tools.wprdc.org/images/pittsburgh/pool...</td>\n",
       "      <td>6</td>\n",
       "      <td>5</td>\n",
       "      <td>42003050900</td>\n",
       "      <td>3</td>\n",
       "      <td>5</td>\n",
       "      <td>2</td>\n",
       "      <td>2-5</td>\n",
       "      <td>40.448728</td>\n",
       "      <td>-79.978329</td>\n",
       "    </tr>\n",
       "    <tr>\n",
       "      <th>Banksville</th>\n",
       "      <td>2</td>\n",
       "      <td>1003800828</td>\n",
       "      <td>Banksville</td>\n",
       "      <td>Pool</td>\n",
       "      <td>NaN</td>\n",
       "      <td>Pennsylvania American Water</td>\n",
       "      <td>166320.0</td>\n",
       "      <td>https://tools.wprdc.org/images/pittsburgh/pool...</td>\n",
       "      <td>2</td>\n",
       "      <td>20</td>\n",
       "      <td>42003202300</td>\n",
       "      <td>5</td>\n",
       "      <td>20</td>\n",
       "      <td>6</td>\n",
       "      <td>4-9</td>\n",
       "      <td>40.414766</td>\n",
       "      <td>-80.040555</td>\n",
       "    </tr>\n",
       "    <tr>\n",
       "      <th>Beechview</th>\n",
       "      <td>3</td>\n",
       "      <td>1688544652</td>\n",
       "      <td>Beechview Spray Park</td>\n",
       "      <td>Spray Park</td>\n",
       "      <td>NaN</td>\n",
       "      <td>Pennsylvania American Water</td>\n",
       "      <td>NaN</td>\n",
       "      <td>https://tools.wprdc.org/images/pittsburgh/pool...</td>\n",
       "      <td>4</td>\n",
       "      <td>19</td>\n",
       "      <td>42003191600</td>\n",
       "      <td>5</td>\n",
       "      <td>19</td>\n",
       "      <td>6</td>\n",
       "      <td>4-28</td>\n",
       "      <td>40.414997</td>\n",
       "      <td>-80.019173</td>\n",
       "    </tr>\n",
       "    <tr>\n",
       "      <th>Bloomfield</th>\n",
       "      <td>4</td>\n",
       "      <td>1533382756</td>\n",
       "      <td>Bloomfield</td>\n",
       "      <td>Pool</td>\n",
       "      <td>NaN</td>\n",
       "      <td>Pittsburgh Water and Sewer Authority</td>\n",
       "      <td>335000.0</td>\n",
       "      <td>https://tools.wprdc.org/images/pittsburgh/pool...</td>\n",
       "      <td>7</td>\n",
       "      <td>8</td>\n",
       "      <td>42003080200</td>\n",
       "      <td>2</td>\n",
       "      <td>8</td>\n",
       "      <td>5</td>\n",
       "      <td>3-1</td>\n",
       "      <td>40.461997</td>\n",
       "      <td>-79.953313</td>\n",
       "    </tr>\n",
       "    <tr>\n",
       "      <th>Hazelwood</th>\n",
       "      <td>5</td>\n",
       "      <td>1287441950</td>\n",
       "      <td>Burgwin Spray Park</td>\n",
       "      <td>Spray Park</td>\n",
       "      <td>NaN</td>\n",
       "      <td>Pittsburgh Water and Sewer Authority</td>\n",
       "      <td>NaN</td>\n",
       "      <td>https://tools.wprdc.org/images/pittsburgh/pool...</td>\n",
       "      <td>5</td>\n",
       "      <td>15</td>\n",
       "      <td>42003562300</td>\n",
       "      <td>3</td>\n",
       "      <td>15</td>\n",
       "      <td>4</td>\n",
       "      <td>2-13</td>\n",
       "      <td>40.405073</td>\n",
       "      <td>-79.936899</td>\n",
       "    </tr>\n",
       "  </tbody>\n",
       "</table>\n",
       "</div>"
      ],
      "text/plain": [
       "                   _id          id                  name        type  retired  \\\n",
       "neighborhood                                                                    \n",
       "Bedford Dwellings    1   899591542                 Ammon        Pool      NaN   \n",
       "Banksville           2  1003800828            Banksville        Pool      NaN   \n",
       "Beechview            3  1688544652  Beechview Spray Park  Spray Park      NaN   \n",
       "Bloomfield           4  1533382756            Bloomfield        Pool      NaN   \n",
       "Hazelwood            5  1287441950    Burgwin Spray Park  Spray Park      NaN   \n",
       "\n",
       "                                           water_source  capacity  \\\n",
       "neighborhood                                                        \n",
       "Bedford Dwellings  Pittsburgh Water and Sewer Authority  538000.0   \n",
       "Banksville                  Pennsylvania American Water  166320.0   \n",
       "Beechview                   Pennsylvania American Water       NaN   \n",
       "Bloomfield         Pittsburgh Water and Sewer Authority  335000.0   \n",
       "Hazelwood          Pittsburgh Water and Sewer Authority       NaN   \n",
       "\n",
       "                                                               image  \\\n",
       "neighborhood                                                           \n",
       "Bedford Dwellings  https://tools.wprdc.org/images/pittsburgh/pool...   \n",
       "Banksville         https://tools.wprdc.org/images/pittsburgh/pool...   \n",
       "Beechview          https://tools.wprdc.org/images/pittsburgh/pool...   \n",
       "Bloomfield         https://tools.wprdc.org/images/pittsburgh/pool...   \n",
       "Hazelwood          https://tools.wprdc.org/images/pittsburgh/pool...   \n",
       "\n",
       "                   council_district  ward        tract  public_works_division  \\\n",
       "neighborhood                                                                    \n",
       "Bedford Dwellings                 6     5  42003050900                      3   \n",
       "Banksville                        2    20  42003202300                      5   \n",
       "Beechview                         4    19  42003191600                      5   \n",
       "Bloomfield                        7     8  42003080200                      2   \n",
       "Hazelwood                         5    15  42003562300                      3   \n",
       "\n",
       "                   pli_division  police_zone fire_zone   latitude  longitude  \n",
       "neighborhood                                                                  \n",
       "Bedford Dwellings             5            2       2-5  40.448728 -79.978329  \n",
       "Banksville                   20            6       4-9  40.414766 -80.040555  \n",
       "Beechview                    19            6      4-28  40.414997 -80.019173  \n",
       "Bloomfield                    8            5       3-1  40.461997 -79.953313  \n",
       "Hazelwood                    15            4      2-13  40.405073 -79.936899  "
      ]
     },
     "execution_count": 57,
     "metadata": {},
     "output_type": "execute_result"
    }
   ],
   "source": [
    "data = pd.read_csv('PittsburghSwimming.csv', index_col=\"neighborhood\")\n",
    "data.head()"
   ]
  },
  {
   "cell_type": "markdown",
   "metadata": {},
   "source": [
    "I have read in the CSV file, and made the indexed collumn \"neighborhood\" in order to display each neighborhood's data. "
   ]
  },
  {
   "cell_type": "code",
   "execution_count": 4,
   "metadata": {},
   "outputs": [
    {
     "data": {
      "text/html": [
       "<div>\n",
       "<style scoped>\n",
       "    .dataframe tbody tr th:only-of-type {\n",
       "        vertical-align: middle;\n",
       "    }\n",
       "\n",
       "    .dataframe tbody tr th {\n",
       "        vertical-align: top;\n",
       "    }\n",
       "\n",
       "    .dataframe thead th {\n",
       "        text-align: right;\n",
       "    }\n",
       "</style>\n",
       "<table border=\"1\" class=\"dataframe\">\n",
       "  <thead>\n",
       "    <tr style=\"text-align: right;\">\n",
       "      <th>type</th>\n",
       "      <th>Pool</th>\n",
       "    </tr>\n",
       "    <tr>\n",
       "      <th>neighborhood</th>\n",
       "      <th></th>\n",
       "    </tr>\n",
       "  </thead>\n",
       "  <tbody>\n",
       "    <tr>\n",
       "      <th>Allegheny Center</th>\n",
       "      <td>271000.0</td>\n",
       "    </tr>\n",
       "    <tr>\n",
       "      <th>Banksville</th>\n",
       "      <td>166320.0</td>\n",
       "    </tr>\n",
       "    <tr>\n",
       "      <th>Bedford Dwellings</th>\n",
       "      <td>538000.0</td>\n",
       "    </tr>\n",
       "    <tr>\n",
       "      <th>Bloomfield</th>\n",
       "      <td>335000.0</td>\n",
       "    </tr>\n",
       "    <tr>\n",
       "      <th>Brighton Heights</th>\n",
       "      <td>205800.0</td>\n",
       "    </tr>\n",
       "    <tr>\n",
       "      <th>Brookline</th>\n",
       "      <td>417657.0</td>\n",
       "    </tr>\n",
       "    <tr>\n",
       "      <th>Carrick</th>\n",
       "      <td>224100.0</td>\n",
       "    </tr>\n",
       "    <tr>\n",
       "      <th>Greenfield</th>\n",
       "      <td>195000.0</td>\n",
       "    </tr>\n",
       "    <tr>\n",
       "      <th>Highland Park</th>\n",
       "      <td>560242.0</td>\n",
       "    </tr>\n",
       "    <tr>\n",
       "      <th>Homewood South</th>\n",
       "      <td>171075.0</td>\n",
       "    </tr>\n",
       "    <tr>\n",
       "      <th>Lincoln Place</th>\n",
       "      <td>18000.0</td>\n",
       "    </tr>\n",
       "    <tr>\n",
       "      <th>Mount Washington</th>\n",
       "      <td>356000.0</td>\n",
       "    </tr>\n",
       "    <tr>\n",
       "      <th>Perry North</th>\n",
       "      <td>205800.0</td>\n",
       "    </tr>\n",
       "    <tr>\n",
       "      <th>Polish Hill</th>\n",
       "      <td>215451.0</td>\n",
       "    </tr>\n",
       "    <tr>\n",
       "      <th>Sheraden</th>\n",
       "      <td>278000.0</td>\n",
       "    </tr>\n",
       "    <tr>\n",
       "      <th>South Side Flats</th>\n",
       "      <td>156400.0</td>\n",
       "    </tr>\n",
       "    <tr>\n",
       "      <th>Squirrel Hill South</th>\n",
       "      <td>187600.0</td>\n",
       "    </tr>\n",
       "    <tr>\n",
       "      <th>Westwood</th>\n",
       "      <td>156840.0</td>\n",
       "    </tr>\n",
       "  </tbody>\n",
       "</table>\n",
       "</div>"
      ],
      "text/plain": [
       "type                     Pool\n",
       "neighborhood                 \n",
       "Allegheny Center     271000.0\n",
       "Banksville           166320.0\n",
       "Bedford Dwellings    538000.0\n",
       "Bloomfield           335000.0\n",
       "Brighton Heights     205800.0\n",
       "Brookline            417657.0\n",
       "Carrick              224100.0\n",
       "Greenfield           195000.0\n",
       "Highland Park        560242.0\n",
       "Homewood South       171075.0\n",
       "Lincoln Place         18000.0\n",
       "Mount Washington     356000.0\n",
       "Perry North          205800.0\n",
       "Polish Hill          215451.0\n",
       "Sheraden             278000.0\n",
       "South Side Flats     156400.0\n",
       "Squirrel Hill South  187600.0\n",
       "Westwood             156840.0"
      ]
     },
     "execution_count": 4,
     "metadata": {},
     "output_type": "execute_result"
    }
   ],
   "source": [
    "pivoted_data = data.pivot_table(index=\"neighborhood\", columns=\"type\", values=\"capacity\")\n",
    "pivoted_data"
   ]
  },
  {
   "cell_type": "markdown",
   "metadata": {},
   "source": [
    "In order to simplify the information, I pivoted the data by keeping the neighborhoods as the index, and the capacities of each neighborhood's pool are the \"values\" that are shown.  "
   ]
  },
  {
   "cell_type": "code",
   "execution_count": 6,
   "metadata": {},
   "outputs": [
    {
     "data": {
      "text/plain": [
       "<matplotlib.legend.Legend at 0x7f6a4bd59730>"
      ]
     },
     "execution_count": 6,
     "metadata": {},
     "output_type": "execute_result"
    },
    {
     "data": {
      "image/png": "[encoded data removed]",
      "text/plain": [
       "<Figure size 432x288 with 1 Axes>"
      ]
     },
     "metadata": {
      "needs_background": "light"
     },
     "output_type": "display_data"
    }
   ],
   "source": [
    "pivoted_data.plot()\n",
    "plt.legend(bbox_to_anchor=(1,1))"
   ]
  },
  {
   "cell_type": "markdown",
   "metadata": {},
   "source": [
    "I plotted the pivoted data. There are high sharp peaks that indicate a high pool capacity around 500,000; however, only a few neighborhoods are labeled on the graph so it is difficult to accurately match up the capacity amount to the correct neighborhood. "
   ]
  },
  {
   "cell_type": "code",
   "execution_count": 8,
   "metadata": {},
   "outputs": [
    {
     "data": {
      "text/plain": [
       "type\n",
       "Pool    560242.0\n",
       "dtype: float64"
      ]
     },
     "execution_count": 8,
     "metadata": {},
     "output_type": "execute_result"
    }
   ],
   "source": [
    "pivoted_data.max()"
   ]
  },
  {
   "cell_type": "markdown",
   "metadata": {},
   "source": [
    "I discovered that the maxium capacity pool is 560,242.  "
   ]
  },
  {
   "cell_type": "code",
   "execution_count": 9,
   "metadata": {},
   "outputs": [
    {
     "name": "stdout",
     "output_type": "stream",
     "text": [
      "Neighborhood: Highland Park\n"
     ]
    }
   ],
   "source": [
    "for neighborhood in pivoted_data.index:\n",
    "    for capacity in pivoted_data.columns:\n",
    "        if 560242.0 == pivoted_data.loc[neighborhood, capacity]:\n",
    "            print(\"Neighborhood:\", neighborhood)\n",
    "        else:\n",
    "            break"
   ]
  },
  {
   "cell_type": "markdown",
   "metadata": {},
   "source": [
    "I obtained the specific neighborhood from my index and column with the capacity of 560242.0. As a result, Highland Park possess a capacity of 560242. "
   ]
  },
  {
   "cell_type": "code",
   "execution_count": 10,
   "metadata": {},
   "outputs": [
    {
     "data": {
      "text/plain": [
       "<matplotlib.axes._subplots.AxesSubplot at 0x7f6a4850d850>"
      ]
     },
     "execution_count": 10,
     "metadata": {},
     "output_type": "execute_result"
    },
    {
     "data": {
      "image/png": "[encoded data removed]",
      "text/plain": [
       "<Figure size 432x288 with 1 Axes>"
      ]
     },
     "metadata": {
      "needs_background": "light"
     },
     "output_type": "display_data"
    }
   ],
   "source": [
    "pivoted_data.plot.bar(rot = 70)"
   ]
  },
  {
   "cell_type": "markdown",
   "metadata": {},
   "source": [
    "I plotted this bar graph to verify that the neghborhood Highland Park has the swimming pool that possesses the highest capacity."
   ]
  },
  {
   "cell_type": "code",
   "execution_count": 21,
   "metadata": {},
   "outputs": [
    {
     "data": {
      "text/plain": [
       "neighborhood\n",
       "Highland Park               560242.0\n",
       "Bedford Dwellings           538000.0\n",
       "Brookline                   417657.0\n",
       "Mount Washington            356000.0\n",
       "Bloomfield                  335000.0\n",
       "South Side Flats            312800.0\n",
       "Sheraden                    278000.0\n",
       "Allegheny Center            271000.0\n",
       "Carrick                     224100.0\n",
       "Polish Hill                 215451.0\n",
       "Brighton Heights            205800.0\n",
       "Perry North                 205800.0\n",
       "Greenfield                  195000.0\n",
       "Squirrel Hill South         187600.0\n",
       "Homewood South              171075.0\n",
       "Banksville                  166320.0\n",
       "Westwood                    156840.0\n",
       "Lincoln Place                18000.0\n",
       "Lincoln-Lemington-Belmar         0.0\n",
       "Hazelwood                        0.0\n",
       "Shadyside                        0.0\n",
       "East Hills                       0.0\n",
       "Beltzhoover                      0.0\n",
       "South Side Slopes                0.0\n",
       "Beechview                        0.0\n",
       "Troy Hill                        0.0\n",
       "Name: capacity, dtype: float64"
      ]
     },
     "execution_count": 21,
     "metadata": {},
     "output_type": "execute_result"
    }
   ],
   "source": [
    "capacity_data = data.groupby(\"neighborhood\").sum()['capacity']\n",
    "capacity_data.sort_values(ascending=False)"
   ]
  },
  {
   "cell_type": "markdown",
   "metadata": {},
   "source": [
    "I created a new dataset to group the capacity of each pool by their neighborhood. The capacity is sorted in descending order, further confirming that Highland Park has the highest capacity. "
   ]
  },
  {
   "cell_type": "code",
   "execution_count": 6,
   "metadata": {},
   "outputs": [
    {
     "data": {
      "text/plain": [
       "<matplotlib.axes._subplots.AxesSubplot at 0x7ff0d2af8e20>"
      ]
     },
     "execution_count": 6,
     "metadata": {},
     "output_type": "execute_result"
    },
    {
     "data": {
      "image/png": "[encoded data removed]",
      "text/plain": [
       "<Figure size 432x288 with 1 Axes>"
      ]
     },
     "metadata": {
      "needs_background": "light"
     },
     "output_type": "display_data"
    }
   ],
   "source": [
    "neighborhoods = gpd.read_file(\"Neighborhoods/Neighborhoods_.shp\") \n",
    "neighborhoods.plot()"
   ]
  },
  {
   "cell_type": "markdown",
   "metadata": {},
   "source": [
    "I was able to create a map of all the pittsburgh neighborhoods using its shapefile. "
   ]
  },
  {
   "cell_type": "code",
   "execution_count": 7,
   "metadata": {},
   "outputs": [
    {
     "data": {
      "text/plain": [
       "<matplotlib.axes._subplots.AxesSubplot at 0x7ff0d226ce50>"
      ]
     },
     "execution_count": 7,
     "metadata": {},
     "output_type": "execute_result"
    },
    {
     "data": {
      "image/png": "[encoded data removed]",
      "text/plain": [
       "<Figure size 432x288 with 1 Axes>"
      ]
     },
     "metadata": {
      "needs_background": "light"
     },
     "output_type": "display_data"
    }
   ],
   "source": [
    "capacity_map = neighborhoods.merge(capacity_data, how='left', left_on='hood', right_on='neighborhood')\n",
    "capacity_map.plot(column='capacity')"
   ]
  },
  {
   "cell_type": "markdown",
   "metadata": {},
   "source": [
    "I merged the Pittsburgh neighborhood dataframe with the capacity dataframe and plotted it in order to create a choropleth map of the joined dataframes. "
   ]
  },
  {
   "cell_type": "code",
   "execution_count": 8,
   "metadata": {},
   "outputs": [
    {
     "data": {
      "text/plain": [
       "<matplotlib.axes._subplots.AxesSubplot at 0x7ff0d1df9190>"
      ]
     },
     "execution_count": 8,
     "metadata": {},
     "output_type": "execute_result"
    },
    {
     "data": {
      "image/png": "[encoded data removed]",
      "text/plain": [
       "<Figure size 720x360 with 2 Axes>"
      ]
     },
     "metadata": {
      "needs_background": "light"
     },
     "output_type": "display_data"
    }
   ],
   "source": [
    "capacity_map.plot(column='capacity', \n",
    "               cmap='GnBu',              \n",
    "               edgecolor=\"black\",        \n",
    "               legend=True,              \n",
    "               legend_kwds={'label': \"Capacity of Pools\"}, \n",
    "               figsize=(10, 5),        \n",
    "               missing_kwds={\"color\": \"lightgrey\"} \n",
    "               )"
   ]
  },
  {
   "cell_type": "markdown",
   "metadata": {},
   "source": [
    "I made the choropleth map a set of parameters in order to read the information and organize the map correctly. The darker shades correspond to pools with higher capacities while the gray shades correlate to irrelevant (no data) neighborhoods. "
   ]
  },
  {
   "cell_type": "markdown",
   "metadata": {},
   "source": [
    "Therefore, my data-driven analysis of the City of Pittsburgh Pools subset demonstrates that the best neighborhood for a penguin to live in is Highland Park because it possess the highest capacity pool of 560,242. "
   ]
  },
  {
   "cell_type": "markdown",
   "metadata": {},
   "source": [
    "# Parks - Rin Tena #\n",
    "The dataset I chose to analyze was the \"Parks\" dataset in attempts to find the best neighborhood in Pittsburgh for a penguin to live. In this case, the \"best neighborhood\" will be defined as the neighborhood that provides the most park space for the penguin to forage, find rocks, and wander. "
   ]
  },
  {
   "cell_type": "code",
   "execution_count": 46,
   "metadata": {},
   "outputs": [
    {
     "data": {
      "text/html": [
       "<div>\n",
       "<style scoped>\n",
       "    .dataframe tbody tr th:only-of-type {\n",
       "        vertical-align: middle;\n",
       "    }\n",
       "\n",
       "    .dataframe tbody tr th {\n",
       "        vertical-align: top;\n",
       "    }\n",
       "\n",
       "    .dataframe thead th {\n",
       "        text-align: right;\n",
       "    }\n",
       "</style>\n",
       "<table border=\"1\" class=\"dataframe\">\n",
       "  <thead>\n",
       "    <tr style=\"text-align: right;\">\n",
       "      <th></th>\n",
       "      <th>_id</th>\n",
       "      <th>objectid_1</th>\n",
       "      <th>objectid</th>\n",
       "      <th>acreage</th>\n",
       "      <th>sqft</th>\n",
       "      <th>final_cat</th>\n",
       "      <th>type</th>\n",
       "      <th>sector</th>\n",
       "      <th>origpkname</th>\n",
       "      <th>updatepknm</th>\n",
       "      <th>...</th>\n",
       "      <th>globalid</th>\n",
       "      <th>created_user</th>\n",
       "      <th>created_date</th>\n",
       "      <th>last_edited_user</th>\n",
       "      <th>last_edited_date</th>\n",
       "      <th>maintenanceresponsibility</th>\n",
       "      <th>dpw_ac</th>\n",
       "      <th>globalid_1</th>\n",
       "      <th>shape_area</th>\n",
       "      <th>shape_length</th>\n",
       "    </tr>\n",
       "  </thead>\n",
       "  <tbody>\n",
       "    <tr>\n",
       "      <th>0</th>\n",
       "      <td>9373</td>\n",
       "      <td>1202</td>\n",
       "      <td>36.0</td>\n",
       "      <td>0.959034</td>\n",
       "      <td>41775.367101</td>\n",
       "      <td>Neighborhood Park</td>\n",
       "      <td>NP</td>\n",
       "      <td>15.0</td>\n",
       "      <td>Cliffside Parklet</td>\n",
       "      <td>August Wilson Park</td>\n",
       "      <td>...</td>\n",
       "      <td>764d9a2f-719c-49c2-b747-8f276149bf04</td>\n",
       "      <td>pgh.dcp.allisot</td>\n",
       "      <td>2023-08-02T14:10:28.845000+00:00</td>\n",
       "      <td>pgh.dcp.allisot</td>\n",
       "      <td>2023-08-02T14:10:28.845000+00:00</td>\n",
       "      <td>Parks - Schenley</td>\n",
       "      <td>0.959034</td>\n",
       "      <td>f781af9c-9ec2-4b5e-b5c5-9cc21608635c</td>\n",
       "      <td>6709.199219</td>\n",
       "      <td>390.397012</td>\n",
       "    </tr>\n",
       "    <tr>\n",
       "      <th>1</th>\n",
       "      <td>9374</td>\n",
       "      <td>1203</td>\n",
       "      <td>198.0</td>\n",
       "      <td>2.060117</td>\n",
       "      <td>89738.347520</td>\n",
       "      <td>Neighborhood Park</td>\n",
       "      <td>NP</td>\n",
       "      <td>2.0</td>\n",
       "      <td>Young Field</td>\n",
       "      <td>Young Field Park</td>\n",
       "      <td>...</td>\n",
       "      <td>9b969f67-1f2e-4f4b-8556-e4ac49ca208e</td>\n",
       "      <td>pgh.dcp.allisot</td>\n",
       "      <td>2023-08-02T14:10:28.845000+00:00</td>\n",
       "      <td>pgh.dcp.allisot</td>\n",
       "      <td>2023-08-02T14:10:28.845000+00:00</td>\n",
       "      <td>Parks - Riverview</td>\n",
       "      <td>2.060117</td>\n",
       "      <td>659c4c55-50fc-4883-8606-76f029fcca47</td>\n",
       "      <td>14423.417969</td>\n",
       "      <td>511.980181</td>\n",
       "    </tr>\n",
       "    <tr>\n",
       "      <th>2</th>\n",
       "      <td>9375</td>\n",
       "      <td>1204</td>\n",
       "      <td>158.0</td>\n",
       "      <td>0.468682</td>\n",
       "      <td>20415.724875</td>\n",
       "      <td>Neighborhood Park</td>\n",
       "      <td>NP</td>\n",
       "      <td>8.0</td>\n",
       "      <td>Revenue Park</td>\n",
       "      <td>Roland Lockridge Community Park</td>\n",
       "      <td>...</td>\n",
       "      <td>44bbbdf5-c2db-451c-b880-9251b8211455</td>\n",
       "      <td>pgh.dcp.allisot</td>\n",
       "      <td>2023-08-02T14:10:28.845000+00:00</td>\n",
       "      <td>pgh.dcp.allisot</td>\n",
       "      <td>2023-08-02T14:10:28.845000+00:00</td>\n",
       "      <td>Parks - Frick</td>\n",
       "      <td>0.468682</td>\n",
       "      <td>04e61cab-bea6-47dd-964a-0723197726cf</td>\n",
       "      <td>3273.722656</td>\n",
       "      <td>236.488235</td>\n",
       "    </tr>\n",
       "    <tr>\n",
       "      <th>3</th>\n",
       "      <td>9376</td>\n",
       "      <td>1205</td>\n",
       "      <td>72.0</td>\n",
       "      <td>1.955430</td>\n",
       "      <td>85178.182207</td>\n",
       "      <td>Neighborhood Park</td>\n",
       "      <td>NP</td>\n",
       "      <td>12.0</td>\n",
       "      <td>Friendship Park</td>\n",
       "      <td>Friendship Park</td>\n",
       "      <td>...</td>\n",
       "      <td>f95cbafc-dcd8-493f-8b98-89745c6434ca</td>\n",
       "      <td>pgh.dcp.allisot</td>\n",
       "      <td>2023-08-02T14:10:28.845000+00:00</td>\n",
       "      <td>pgh.dcp.allisot</td>\n",
       "      <td>2023-08-02T14:10:28.845000+00:00</td>\n",
       "      <td>Parks - Highland</td>\n",
       "      <td>1.955430</td>\n",
       "      <td>22563a68-61d3-46f3-9d5c-4558ee12be1f</td>\n",
       "      <td>13686.265625</td>\n",
       "      <td>760.982871</td>\n",
       "    </tr>\n",
       "    <tr>\n",
       "      <th>4</th>\n",
       "      <td>9377</td>\n",
       "      <td>1206</td>\n",
       "      <td>87.0</td>\n",
       "      <td>5.108070</td>\n",
       "      <td>222506.623799</td>\n",
       "      <td>Neighborhood Park</td>\n",
       "      <td>NP</td>\n",
       "      <td>12.0</td>\n",
       "      <td>Heths Playground</td>\n",
       "      <td>Heth's Park</td>\n",
       "      <td>...</td>\n",
       "      <td>a6a4ac92-5a00-4af5-9f11-716e51079fea</td>\n",
       "      <td>pgh.dcp.allisot</td>\n",
       "      <td>2023-08-02T14:10:28.845000+00:00</td>\n",
       "      <td>pgh.dcp.allisot</td>\n",
       "      <td>2023-08-02T14:10:28.845000+00:00</td>\n",
       "      <td>Parks - Highland</td>\n",
       "      <td>5.108070</td>\n",
       "      <td>b5b34833-e1d5-430f-afcc-40a1670d545d</td>\n",
       "      <td>35767.898438</td>\n",
       "      <td>875.156997</td>\n",
       "    </tr>\n",
       "  </tbody>\n",
       "</table>\n",
       "<p>5 rows × 23 columns</p>\n",
       "</div>"
      ],
      "text/plain": [
       "    _id  objectid_1  objectid   acreage           sqft          final_cat  \\\n",
       "0  9373        1202      36.0  0.959034   41775.367101  Neighborhood Park   \n",
       "1  9374        1203     198.0  2.060117   89738.347520  Neighborhood Park   \n",
       "2  9375        1204     158.0  0.468682   20415.724875  Neighborhood Park   \n",
       "3  9376        1205      72.0  1.955430   85178.182207  Neighborhood Park   \n",
       "4  9377        1206      87.0  5.108070  222506.623799  Neighborhood Park   \n",
       "\n",
       "  type  sector         origpkname                       updatepknm  ...  \\\n",
       "0   NP    15.0  Cliffside Parklet               August Wilson Park  ...   \n",
       "1   NP     2.0        Young Field                 Young Field Park  ...   \n",
       "2   NP     8.0       Revenue Park  Roland Lockridge Community Park  ...   \n",
       "3   NP    12.0    Friendship Park                  Friendship Park  ...   \n",
       "4   NP    12.0   Heths Playground                      Heth's Park  ...   \n",
       "\n",
       "                               globalid     created_user  \\\n",
       "0  764d9a2f-719c-49c2-b747-8f276149bf04  pgh.dcp.allisot   \n",
       "1  9b969f67-1f2e-4f4b-8556-e4ac49ca208e  pgh.dcp.allisot   \n",
       "2  44bbbdf5-c2db-451c-b880-9251b8211455  pgh.dcp.allisot   \n",
       "3  f95cbafc-dcd8-493f-8b98-89745c6434ca  pgh.dcp.allisot   \n",
       "4  a6a4ac92-5a00-4af5-9f11-716e51079fea  pgh.dcp.allisot   \n",
       "\n",
       "                       created_date last_edited_user  \\\n",
       "0  2023-08-02T14:10:28.845000+00:00  pgh.dcp.allisot   \n",
       "1  2023-08-02T14:10:28.845000+00:00  pgh.dcp.allisot   \n",
       "2  2023-08-02T14:10:28.845000+00:00  pgh.dcp.allisot   \n",
       "3  2023-08-02T14:10:28.845000+00:00  pgh.dcp.allisot   \n",
       "4  2023-08-02T14:10:28.845000+00:00  pgh.dcp.allisot   \n",
       "\n",
       "                   last_edited_date maintenanceresponsibility    dpw_ac  \\\n",
       "0  2023-08-02T14:10:28.845000+00:00          Parks - Schenley  0.959034   \n",
       "1  2023-08-02T14:10:28.845000+00:00         Parks - Riverview  2.060117   \n",
       "2  2023-08-02T14:10:28.845000+00:00             Parks - Frick  0.468682   \n",
       "3  2023-08-02T14:10:28.845000+00:00          Parks - Highland  1.955430   \n",
       "4  2023-08-02T14:10:28.845000+00:00          Parks - Highland  5.108070   \n",
       "\n",
       "                             globalid_1    shape_area  shape_length  \n",
       "0  f781af9c-9ec2-4b5e-b5c5-9cc21608635c   6709.199219    390.397012  \n",
       "1  659c4c55-50fc-4883-8606-76f029fcca47  14423.417969    511.980181  \n",
       "2  04e61cab-bea6-47dd-964a-0723197726cf   3273.722656    236.488235  \n",
       "3  22563a68-61d3-46f3-9d5c-4558ee12be1f  13686.265625    760.982871  \n",
       "4  b5b34833-e1d5-430f-afcc-40a1670d545d  35767.898438    875.156997  \n",
       "\n",
       "[5 rows x 23 columns]"
      ]
     },
     "execution_count": 46,
     "metadata": {},
     "output_type": "execute_result"
    }
   ],
   "source": [
    "import pandas as pd\n",
    "import geopandas\n",
    "import numpy as np\n",
    "%matplotlib inline\n",
    "import matplotlib.pyplot as plt\n",
    "\n",
    "hoods = pd.read_csv(\"Neighborhoods.csv\")\n",
    "data = pd.read_csv(\"parks.csv\")\n",
    "data.head()"
   ]
  },
  {
   "cell_type": "markdown",
   "metadata": {},
   "source": [
    "Importing Pandas and checking to see the parks.csv was properly downloaded. "
   ]
  },
  {
   "cell_type": "code",
   "execution_count": 10,
   "metadata": {},
   "outputs": [
    {
     "name": "stdout",
     "output_type": "stream",
     "text": [
      "         updatepknm     acreage\n",
      "93       Hays Woods  637.409429\n",
      "81       Frick Park  606.639071\n",
      "171   Schenley Park  434.082623\n",
      "99    Highland Park  377.910577\n",
      "165  Riverview Park  258.604289\n"
     ]
    }
   ],
   "source": [
    "#sort data by the park name and add up each acreage\n",
    "acre = data.groupby(\"updatepknm\", as_index =False)['acreage'].sum().sort_values(['acreage'],ascending=False)\n",
    "acre['acreage']=acre['acreage'].astype(object)\n",
    "#Only save the data from the top 5 parks\n",
    "acre = acre.head()\n",
    "print(acre)"
   ]
  },
  {
   "cell_type": "markdown",
   "metadata": {},
   "source": [
    "Sorting the data by park name and acreage. This shows the top 5 parks with the most area. "
   ]
  },
  {
   "cell_type": "code",
   "execution_count": 11,
   "metadata": {},
   "outputs": [
    {
     "data": {
      "text/plain": [
       "<matplotlib.axes._subplots.AxesSubplot at 0x7ff0d04ce970>"
      ]
     },
     "execution_count": 11,
     "metadata": {},
     "output_type": "execute_result"
    },
    {
     "data": {
      "image/png": "[encoded data removed]",
      "text/plain": [
       "<Figure size 432x288 with 1 Axes>"
      ]
     },
     "metadata": {
      "needs_background": "light"
     },
     "output_type": "display_data"
    }
   ],
   "source": [
    "#filter by square feet of park and print top five parks\n",
    "park_size = data.pivot(columns=\"updatepknm\", values=\"sqft\").sum()\n",
    "all_park_size = park_size.sort_values(ascending=False)\n",
    "park_size = all_park_size.head()\n",
    "park_size.plot(kind=\"bar\")"
   ]
  },
  {
   "cell_type": "markdown",
   "metadata": {},
   "source": [
    "The five parks with the most acreage are Hays Woods, Frick Park, Schenley Park, Highland Park, and Riverview Park respectively. Now, let's see which neighborhoods corrilate with these parks. "
   ]
  },
  {
   "cell_type": "code",
   "execution_count": 12,
   "metadata": {},
   "outputs": [
    {
     "data": {
      "text/plain": [
       "<matplotlib.axes._subplots.AxesSubplot at 0x7ff0d03fb460>"
      ]
     },
     "execution_count": 12,
     "metadata": {},
     "output_type": "execute_result"
    },
    {
     "data": {
      "image/png": "[encoded data removed]",
      "text/plain": [
       "<Figure size 432x288 with 1 Axes>"
      ]
     },
     "metadata": {
      "needs_background": "light"
     },
     "output_type": "display_data"
    }
   ],
   "source": [
    "parks = geopandas.read_file(\"pghMaps/PGHWebParks.shp\")\n",
    "parks.plot()"
   ]
  },
  {
   "cell_type": "markdown",
   "metadata": {},
   "source": [
    "I loaded in the map of the parks and ensured it was working by plotting it. "
   ]
  },
  {
   "cell_type": "code",
   "execution_count": 13,
   "metadata": {},
   "outputs": [
    {
     "data": {
      "text/html": [
       "<div>\n",
       "<style scoped>\n",
       "    .dataframe tbody tr th:only-of-type {\n",
       "        vertical-align: middle;\n",
       "    }\n",
       "\n",
       "    .dataframe tbody tr th {\n",
       "        vertical-align: top;\n",
       "    }\n",
       "\n",
       "    .dataframe thead th {\n",
       "        text-align: right;\n",
       "    }\n",
       "</style>\n",
       "<table border=\"1\" class=\"dataframe\">\n",
       "  <thead>\n",
       "    <tr style=\"text-align: right;\">\n",
       "      <th></th>\n",
       "      <th>updatepknm</th>\n",
       "      <th>sqft</th>\n",
       "      <th>geometry</th>\n",
       "    </tr>\n",
       "  </thead>\n",
       "  <tbody>\n",
       "    <tr>\n",
       "      <th>0</th>\n",
       "      <td>August Wilson Park</td>\n",
       "      <td>41775.367101</td>\n",
       "      <td>POLYGON ((-79.98614 40.44665, -79.98613 40.446...</td>\n",
       "    </tr>\n",
       "    <tr>\n",
       "      <th>1</th>\n",
       "      <td>Young Field Park</td>\n",
       "      <td>89738.347520</td>\n",
       "      <td>POLYGON ((-80.03313 40.47289, -80.03314 40.473...</td>\n",
       "    </tr>\n",
       "    <tr>\n",
       "      <th>2</th>\n",
       "      <td>Roland Lockridge Community Park</td>\n",
       "      <td>20415.724875</td>\n",
       "      <td>POLYGON ((-79.92039 40.39402, -79.92047 40.393...</td>\n",
       "    </tr>\n",
       "    <tr>\n",
       "      <th>3</th>\n",
       "      <td>Friendship Park</td>\n",
       "      <td>85178.182207</td>\n",
       "      <td>POLYGON ((-79.94539 40.46264, -79.94486 40.462...</td>\n",
       "    </tr>\n",
       "    <tr>\n",
       "      <th>4</th>\n",
       "      <td>Heth's Park</td>\n",
       "      <td>222506.623799</td>\n",
       "      <td>POLYGON ((-79.92675 40.47832, -79.92722 40.477...</td>\n",
       "    </tr>\n",
       "  </tbody>\n",
       "</table>\n",
       "</div>"
      ],
      "text/plain": [
       "                        updatepknm           sqft  \\\n",
       "0               August Wilson Park   41775.367101   \n",
       "1                 Young Field Park   89738.347520   \n",
       "2  Roland Lockridge Community Park   20415.724875   \n",
       "3                  Friendship Park   85178.182207   \n",
       "4                      Heth's Park  222506.623799   \n",
       "\n",
       "                                            geometry  \n",
       "0  POLYGON ((-79.98614 40.44665, -79.98613 40.446...  \n",
       "1  POLYGON ((-80.03313 40.47289, -80.03314 40.473...  \n",
       "2  POLYGON ((-79.92039 40.39402, -79.92047 40.393...  \n",
       "3  POLYGON ((-79.94539 40.46264, -79.94486 40.462...  \n",
       "4  POLYGON ((-79.92675 40.47832, -79.92722 40.477...  "
      ]
     },
     "execution_count": 13,
     "metadata": {},
     "output_type": "execute_result"
    }
   ],
   "source": [
    "#merge parks and acre\n",
    "colored = parks.merge(acre, how='left', left_on='updatepknm', right_on='updatepknm')\n",
    "colored[['updatepknm','sqft','geometry']].head()"
   ]
  },
  {
   "cell_type": "markdown",
   "metadata": {},
   "source": [
    "Here are the parks and shapefile being combined."
   ]
  },
  {
   "cell_type": "code",
   "execution_count": 14,
   "metadata": {},
   "outputs": [
    {
     "data": {
      "text/plain": [
       "<matplotlib.axes._subplots.AxesSubplot at 0x7ff0d038fa60>"
      ]
     },
     "execution_count": 14,
     "metadata": {},
     "output_type": "execute_result"
    },
    {
     "data": {
      "image/png": "[encoded data removed]",
      "text/plain": [
       "<Figure size 432x288 with 2 Axes>"
      ]
     },
     "metadata": {
      "needs_background": "light"
     },
     "output_type": "display_data"
    }
   ],
   "source": [
    "#map of all the parks in pittsburgh\n",
    "colored.plot(column='sqft',cmap='OrRd', legend=True)"
   ]
  },
  {
   "cell_type": "markdown",
   "metadata": {},
   "source": [
    "As you can see, the map is incomplete, as there are not parks all over Pittsburgh. If we compare this map with the map of neighborhoods, however, we can see which areas these parks belong to. We know from before that the plot with the largest area of land is Hays Woods, so perhaps there is a neighborhood by the same name. "
   ]
  },
  {
   "cell_type": "code",
   "execution_count": 15,
   "metadata": {},
   "outputs": [
    {
     "name": "stdout",
     "output_type": "stream",
     "text": [
      "                   hood  hood_no\n",
      "89              Windgap       90\n",
      "88             Westwood       89\n",
      "87         West Oakland       88\n",
      "86             West End       87\n",
      "85  Upper Lawrenceville       86\n",
      "..                  ...      ...\n",
      "4     Arlington Heights        5\n",
      "3             Arlington        4\n",
      "2             Allentown        3\n",
      "1        Allegheny West        2\n",
      "0      Allegheny Center        1\n",
      "\n",
      "[90 rows x 2 columns]\n"
     ]
    }
   ],
   "source": [
    "#hoodNames = hoods.pivot(columns=\"hood\", values=\"_id\").sum()\n",
    "hoodNames = hoods.groupby(\"hood\", as_index =False)['hood_no'].sum().sort_values(['hood_no'],ascending=False)\n",
    "print(hoodNames)"
   ]
  },
  {
   "cell_type": "markdown",
   "metadata": {},
   "source": [
    "Pivoting the data so that the neighborhood names are shown. "
   ]
  },
  {
   "cell_type": "code",
   "execution_count": 9,
   "metadata": {},
   "outputs": [
    {
     "name": "stdout",
     "output_type": "stream",
     "text": [
      "    hood  hood_no\n",
      "37  Hays       38\n"
     ]
    }
   ],
   "source": [
    "#Search for the neighborhood by the park\n",
    "search_value = 'Hays'\n",
    "result = hoodNames[hoodNames['hood'] == search_value]\n",
    "print(result)"
   ]
  },
  {
   "cell_type": "markdown",
   "metadata": {},
   "source": [
    "The neighborhood Hays is closest to the largest park in pittsburgh: Hays Woods."
   ]
  },
  {
   "cell_type": "code",
   "execution_count": 6,
   "metadata": {},
   "outputs": [
    {
     "data": {
      "text/html": [
       "<div>\n",
       "<style scoped>\n",
       "    .dataframe tbody tr th:only-of-type {\n",
       "        vertical-align: middle;\n",
       "    }\n",
       "\n",
       "    .dataframe tbody tr th {\n",
       "        vertical-align: top;\n",
       "    }\n",
       "\n",
       "    .dataframe thead th {\n",
       "        text-align: right;\n",
       "    }\n",
       "</style>\n",
       "<table border=\"1\" class=\"dataframe\">\n",
       "  <thead>\n",
       "    <tr style=\"text-align: right;\">\n",
       "      <th></th>\n",
       "      <th>hood</th>\n",
       "      <th>hood</th>\n",
       "      <th>geometry</th>\n",
       "    </tr>\n",
       "  </thead>\n",
       "  <tbody>\n",
       "    <tr>\n",
       "      <th>0</th>\n",
       "      <td>Central Oakland</td>\n",
       "      <td>Central Oakland</td>\n",
       "      <td>POLYGON ((-79.95304 40.44203, -79.95302 40.442...</td>\n",
       "    </tr>\n",
       "    <tr>\n",
       "      <th>1</th>\n",
       "      <td>North Oakland</td>\n",
       "      <td>North Oakland</td>\n",
       "      <td>POLYGON ((-79.95455 40.45882, -79.95427 40.458...</td>\n",
       "    </tr>\n",
       "    <tr>\n",
       "      <th>2</th>\n",
       "      <td>West Oakland</td>\n",
       "      <td>West Oakland</td>\n",
       "      <td>POLYGON ((-79.96230 40.44294, -79.96220 40.442...</td>\n",
       "    </tr>\n",
       "    <tr>\n",
       "      <th>3</th>\n",
       "      <td>Crawford-Roberts</td>\n",
       "      <td>Crawford-Roberts</td>\n",
       "      <td>POLYGON ((-79.98275 40.44641, -79.98273 40.446...</td>\n",
       "    </tr>\n",
       "    <tr>\n",
       "      <th>4</th>\n",
       "      <td>Strip District</td>\n",
       "      <td>Strip District</td>\n",
       "      <td>POLYGON ((-79.97494 40.45629, -79.97484 40.456...</td>\n",
       "    </tr>\n",
       "  </tbody>\n",
       "</table>\n",
       "</div>"
      ],
      "text/plain": [
       "               hood              hood  \\\n",
       "0   Central Oakland   Central Oakland   \n",
       "1     North Oakland     North Oakland   \n",
       "2      West Oakland      West Oakland   \n",
       "3  Crawford-Roberts  Crawford-Roberts   \n",
       "4    Strip District    Strip District   \n",
       "\n",
       "                                            geometry  \n",
       "0  POLYGON ((-79.95304 40.44203, -79.95302 40.442...  \n",
       "1  POLYGON ((-79.95455 40.45882, -79.95427 40.458...  \n",
       "2  POLYGON ((-79.96230 40.44294, -79.96220 40.442...  \n",
       "3  POLYGON ((-79.98275 40.44641, -79.98273 40.446...  \n",
       "4  POLYGON ((-79.97494 40.45629, -79.97484 40.456...  "
      ]
     },
     "execution_count": 6,
     "metadata": {},
     "output_type": "execute_result"
    }
   ],
   "source": [
    "neighborhoods = geopandas.read_file(\"Neighborhoods/Neighborhoods_.shp\")\n",
    "hoodMap = neighborhoods.merge(hoodNames, how='left', left_on='hood', right_on='hood')\n",
    "hoodMap[['hood','hood','geometry']].head()"
   ]
  },
  {
   "cell_type": "code",
   "execution_count": 13,
   "metadata": {},
   "outputs": [
    {
     "data": {
      "text/plain": [
       "<matplotlib.axes._subplots.AxesSubplot at 0x7f8275543850>"
      ]
     },
     "execution_count": 13,
     "metadata": {},
     "output_type": "execute_result"
    },
    {
     "data": {
      "image/png": "[encoded data removed]",
      "text/plain": [
       "<Figure size 432x288 with 2 Axes>"
      ]
     },
     "metadata": {
      "needs_background": "light"
     },
     "output_type": "display_data"
    }
   ],
   "source": [
    "hoodMap.plot(column='hood_no',cmap='OrRd', legend=True)"
   ]
  },
  {
   "cell_type": "markdown",
   "metadata": {},
   "source": [
    "As you can see, the Hays neighborhood is where the Hays Woods park is. The Best neighborhood in Pittsburgh for a penguin to live is Hays according to this data set because it contains the biggest Park in the city, which as an area of 637.4 acres. "
   ]
  },
  {
   "cell_type": "markdown",
   "metadata": {},
   "source": [
    "## **2010 Census- Together**\n",
    "\n",
    "The final dataset we chose to analyze together in order to determine which neighborhood is the best for a penguin to live in is the 2010 census tract of Pittsburgh neighborhoods. The \"best neighborhood\" is the one which possess the largest space for a penguin to roam around. "
   ]
  },
  {
   "cell_type": "code",
   "execution_count": 48,
   "metadata": {},
   "outputs": [],
   "source": [
    "import pandas as pd\n",
    "%matplotlib inline\n",
    "import matplotlib.pyplot as plt\n",
    "import geopandas"
   ]
  },
  {
   "cell_type": "markdown",
   "metadata": {},
   "source": [
    "We imported pandas, matplotlib, and geopandas."
   ]
  },
  {
   "cell_type": "code",
   "execution_count": 49,
   "metadata": {},
   "outputs": [
    {
     "data": {
      "text/html": [
       "<div>\n",
       "<style scoped>\n",
       "    .dataframe tbody tr th:only-of-type {\n",
       "        vertical-align: middle;\n",
       "    }\n",
       "\n",
       "    .dataframe tbody tr th {\n",
       "        vertical-align: top;\n",
       "    }\n",
       "\n",
       "    .dataframe thead th {\n",
       "        text-align: right;\n",
       "    }\n",
       "</style>\n",
       "<table border=\"1\" class=\"dataframe\">\n",
       "  <thead>\n",
       "    <tr style=\"text-align: right;\">\n",
       "      <th></th>\n",
       "      <th>_id</th>\n",
       "      <th>objectid</th>\n",
       "      <th>statefp10</th>\n",
       "      <th>countyfp10</th>\n",
       "      <th>tractce10</th>\n",
       "      <th>blkgrpce10</th>\n",
       "      <th>geoid10</th>\n",
       "      <th>namelsad10</th>\n",
       "      <th>mtfcc10</th>\n",
       "      <th>funcstat10</th>\n",
       "      <th>...</th>\n",
       "      <th>objectid_1</th>\n",
       "      <th>tractce10_1</th>\n",
       "      <th>cnt_tractce10</th>\n",
       "      <th>sum_lowmod2018</th>\n",
       "      <th>sum_lowmoduniv</th>\n",
       "      <th>lowmodperct</th>\n",
       "      <th>lowmodpercanno</th>\n",
       "      <th>cdbg2018</th>\n",
       "      <th>shape_area</th>\n",
       "      <th>shape_length</th>\n",
       "    </tr>\n",
       "    <tr>\n",
       "      <th>hood</th>\n",
       "      <th></th>\n",
       "      <th></th>\n",
       "      <th></th>\n",
       "      <th></th>\n",
       "      <th></th>\n",
       "      <th></th>\n",
       "      <th></th>\n",
       "      <th></th>\n",
       "      <th></th>\n",
       "      <th></th>\n",
       "      <th></th>\n",
       "      <th></th>\n",
       "      <th></th>\n",
       "      <th></th>\n",
       "      <th></th>\n",
       "      <th></th>\n",
       "      <th></th>\n",
       "      <th></th>\n",
       "      <th></th>\n",
       "      <th></th>\n",
       "      <th></th>\n",
       "    </tr>\n",
       "  </thead>\n",
       "  <tbody>\n",
       "    <tr>\n",
       "      <th>Central Oakland</th>\n",
       "      <td>10759</td>\n",
       "      <td>1</td>\n",
       "      <td>42</td>\n",
       "      <td>3</td>\n",
       "      <td>40500</td>\n",
       "      <td>1</td>\n",
       "      <td>420030405001</td>\n",
       "      <td>Block Group 1</td>\n",
       "      <td>G5030</td>\n",
       "      <td>S</td>\n",
       "      <td>...</td>\n",
       "      <td>7</td>\n",
       "      <td>40500</td>\n",
       "      <td>2</td>\n",
       "      <td>2775</td>\n",
       "      <td>2985</td>\n",
       "      <td>92.964824</td>\n",
       "      <td>92.96</td>\n",
       "      <td>Yes</td>\n",
       "      <td>5.079492e+06</td>\n",
       "      <td>10442.036450</td>\n",
       "    </tr>\n",
       "    <tr>\n",
       "      <th>North Oakland</th>\n",
       "      <td>10760</td>\n",
       "      <td>2</td>\n",
       "      <td>42</td>\n",
       "      <td>3</td>\n",
       "      <td>40400</td>\n",
       "      <td>1</td>\n",
       "      <td>420030404001</td>\n",
       "      <td>Block Group 1</td>\n",
       "      <td>G5030</td>\n",
       "      <td>S</td>\n",
       "      <td>...</td>\n",
       "      <td>6</td>\n",
       "      <td>40400</td>\n",
       "      <td>2</td>\n",
       "      <td>1365</td>\n",
       "      <td>2020</td>\n",
       "      <td>67.574257</td>\n",
       "      <td>67.57</td>\n",
       "      <td>Yes</td>\n",
       "      <td>2.105489e+06</td>\n",
       "      <td>6609.688123</td>\n",
       "    </tr>\n",
       "    <tr>\n",
       "      <th>West Oakland</th>\n",
       "      <td>10761</td>\n",
       "      <td>3</td>\n",
       "      <td>42</td>\n",
       "      <td>3</td>\n",
       "      <td>40200</td>\n",
       "      <td>2</td>\n",
       "      <td>420030402002</td>\n",
       "      <td>Block Group 2</td>\n",
       "      <td>G5030</td>\n",
       "      <td>S</td>\n",
       "      <td>...</td>\n",
       "      <td>5</td>\n",
       "      <td>40200</td>\n",
       "      <td>2</td>\n",
       "      <td>1070</td>\n",
       "      <td>1290</td>\n",
       "      <td>82.945736</td>\n",
       "      <td>82.94</td>\n",
       "      <td>Yes</td>\n",
       "      <td>5.998649e+06</td>\n",
       "      <td>18280.484081</td>\n",
       "    </tr>\n",
       "    <tr>\n",
       "      <th>Crawford-Roberts</th>\n",
       "      <td>10762</td>\n",
       "      <td>4</td>\n",
       "      <td>42</td>\n",
       "      <td>3</td>\n",
       "      <td>30500</td>\n",
       "      <td>2</td>\n",
       "      <td>420030305002</td>\n",
       "      <td>Block Group 2</td>\n",
       "      <td>G5030</td>\n",
       "      <td>S</td>\n",
       "      <td>...</td>\n",
       "      <td>4</td>\n",
       "      <td>30500</td>\n",
       "      <td>2</td>\n",
       "      <td>1635</td>\n",
       "      <td>2130</td>\n",
       "      <td>76.760563</td>\n",
       "      <td>76.76</td>\n",
       "      <td>Yes</td>\n",
       "      <td>7.203631e+06</td>\n",
       "      <td>15694.771444</td>\n",
       "    </tr>\n",
       "    <tr>\n",
       "      <th>Lincoln-Lemington-Belmar</th>\n",
       "      <td>10763</td>\n",
       "      <td>5</td>\n",
       "      <td>42</td>\n",
       "      <td>3</td>\n",
       "      <td>980000</td>\n",
       "      <td>1</td>\n",
       "      <td>420039800001</td>\n",
       "      <td>Block Group 1</td>\n",
       "      <td>G5030</td>\n",
       "      <td>S</td>\n",
       "      <td>...</td>\n",
       "      <td>125</td>\n",
       "      <td>980000</td>\n",
       "      <td>1</td>\n",
       "      <td>65</td>\n",
       "      <td>220</td>\n",
       "      <td>29.545455</td>\n",
       "      <td>29.54</td>\n",
       "      <td>No</td>\n",
       "      <td>7.764866e+06</td>\n",
       "      <td>13581.875089</td>\n",
       "    </tr>\n",
       "  </tbody>\n",
       "</table>\n",
       "<p>5 rows × 31 columns</p>\n",
       "</div>"
      ],
      "text/plain": [
       "                            _id  objectid  statefp10  countyfp10  tractce10  \\\n",
       "hood                                                                          \n",
       "Central Oakland           10759         1         42           3      40500   \n",
       "North Oakland             10760         2         42           3      40400   \n",
       "West Oakland              10761         3         42           3      40200   \n",
       "Crawford-Roberts          10762         4         42           3      30500   \n",
       "Lincoln-Lemington-Belmar  10763         5         42           3     980000   \n",
       "\n",
       "                          blkgrpce10       geoid10     namelsad10 mtfcc10  \\\n",
       "hood                                                                        \n",
       "Central Oakland                    1  420030405001  Block Group 1   G5030   \n",
       "North Oakland                      1  420030404001  Block Group 1   G5030   \n",
       "West Oakland                       2  420030402002  Block Group 2   G5030   \n",
       "Crawford-Roberts                   2  420030305002  Block Group 2   G5030   \n",
       "Lincoln-Lemington-Belmar           1  420039800001  Block Group 1   G5030   \n",
       "\n",
       "                         funcstat10  ...  objectid_1  tractce10_1  \\\n",
       "hood                                 ...                            \n",
       "Central Oakland                   S  ...           7        40500   \n",
       "North Oakland                     S  ...           6        40400   \n",
       "West Oakland                      S  ...           5        40200   \n",
       "Crawford-Roberts                  S  ...           4        30500   \n",
       "Lincoln-Lemington-Belmar          S  ...         125       980000   \n",
       "\n",
       "                          cnt_tractce10  sum_lowmod2018  sum_lowmoduniv  \\\n",
       "hood                                                                      \n",
       "Central Oakland                       2            2775            2985   \n",
       "North Oakland                         2            1365            2020   \n",
       "West Oakland                          2            1070            1290   \n",
       "Crawford-Roberts                      2            1635            2130   \n",
       "Lincoln-Lemington-Belmar              1              65             220   \n",
       "\n",
       "                          lowmodperct  lowmodpercanno  cdbg2018    shape_area  \\\n",
       "hood                                                                            \n",
       "Central Oakland             92.964824           92.96       Yes  5.079492e+06   \n",
       "North Oakland               67.574257           67.57       Yes  2.105489e+06   \n",
       "West Oakland                82.945736           82.94       Yes  5.998649e+06   \n",
       "Crawford-Roberts            76.760563           76.76       Yes  7.203631e+06   \n",
       "Lincoln-Lemington-Belmar    29.545455           29.54        No  7.764866e+06   \n",
       "\n",
       "                          shape_length  \n",
       "hood                                    \n",
       "Central Oakland           10442.036450  \n",
       "North Oakland              6609.688123  \n",
       "West Oakland              18280.484081  \n",
       "Crawford-Roberts          15694.771444  \n",
       "Lincoln-Lemington-Belmar  13581.875089  \n",
       "\n",
       "[5 rows x 31 columns]"
      ]
     },
     "execution_count": 49,
     "metadata": {},
     "output_type": "execute_result"
    }
   ],
   "source": [
    "census = pd.read_csv('2010CensusTracts.csv', index_col=\"hood\")\n",
    "census.head()"
   ]
  },
  {
   "cell_type": "markdown",
   "metadata": {},
   "source": [
    "We downloaded, read in the CSV file, and made the indexed column \"hood\" to display each neighborhood's data. "
   ]
  },
  {
   "cell_type": "code",
   "execution_count": 31,
   "metadata": {},
   "outputs": [
    {
     "data": {
      "text/html": [
       "<div>\n",
       "<style scoped>\n",
       "    .dataframe tbody tr th:only-of-type {\n",
       "        vertical-align: middle;\n",
       "    }\n",
       "\n",
       "    .dataframe tbody tr th {\n",
       "        vertical-align: top;\n",
       "    }\n",
       "\n",
       "    .dataframe thead th {\n",
       "        text-align: right;\n",
       "    }\n",
       "</style>\n",
       "<table border=\"1\" class=\"dataframe\">\n",
       "  <thead>\n",
       "    <tr style=\"text-align: right;\">\n",
       "      <th></th>\n",
       "      <th>acres</th>\n",
       "    </tr>\n",
       "    <tr>\n",
       "      <th>hood</th>\n",
       "      <th></th>\n",
       "    </tr>\n",
       "  </thead>\n",
       "  <tbody>\n",
       "    <tr>\n",
       "      <th>Squirrel Hill South</th>\n",
       "      <td>1717.485</td>\n",
       "    </tr>\n",
       "    <tr>\n",
       "      <th>Brookline</th>\n",
       "      <td>1338.669</td>\n",
       "    </tr>\n",
       "    <tr>\n",
       "      <th>Carrick</th>\n",
       "      <td>1075.670</td>\n",
       "    </tr>\n",
       "    <tr>\n",
       "      <th>Hazelwood</th>\n",
       "      <td>1017.805</td>\n",
       "    </tr>\n",
       "    <tr>\n",
       "      <th>Beechview</th>\n",
       "      <td>938.804</td>\n",
       "    </tr>\n",
       "    <tr>\n",
       "      <th>...</th>\n",
       "      <td>...</td>\n",
       "    </tr>\n",
       "    <tr>\n",
       "      <th>Homewood West</th>\n",
       "      <td>127.819</td>\n",
       "    </tr>\n",
       "    <tr>\n",
       "      <th>Regent Square</th>\n",
       "      <td>123.682</td>\n",
       "    </tr>\n",
       "    <tr>\n",
       "      <th>Bedford Dwellings</th>\n",
       "      <td>115.252</td>\n",
       "    </tr>\n",
       "    <tr>\n",
       "      <th>Allegheny West</th>\n",
       "      <td>90.841</td>\n",
       "    </tr>\n",
       "    <tr>\n",
       "      <th>Friendship</th>\n",
       "      <td>68.297</td>\n",
       "    </tr>\n",
       "  </tbody>\n",
       "</table>\n",
       "<p>79 rows × 1 columns</p>\n",
       "</div>"
      ],
      "text/plain": [
       "                        acres\n",
       "hood                         \n",
       "Squirrel Hill South  1717.485\n",
       "Brookline            1338.669\n",
       "Carrick              1075.670\n",
       "Hazelwood            1017.805\n",
       "Beechview             938.804\n",
       "...                       ...\n",
       "Homewood West         127.819\n",
       "Regent Square         123.682\n",
       "Bedford Dwellings     115.252\n",
       "Allegheny West         90.841\n",
       "Friendship             68.297\n",
       "\n",
       "[79 rows x 1 columns]"
      ]
     },
     "execution_count": 31,
     "metadata": {},
     "output_type": "execute_result"
    }
   ],
   "source": [
    "pivoted_acres = census.pivot_table(index=\"hood\", values=\"acres\")\n",
    "sorting = pivoted_acres.sort_values(by=\"acres\", ascending=False)\n",
    "sorting"
   ]
  },
  {
   "cell_type": "markdown",
   "metadata": {},
   "source": [
    "We pivoted our data by using the neighborhoods as the index and its quantity of acres as the values. In order to organize the data, we sorted the acres from the greatest to least amount. Squirrel Hill South has the greatest number of acres available.  "
   ]
  },
  {
   "cell_type": "code",
   "execution_count": 32,
   "metadata": {},
   "outputs": [
    {
     "data": {
      "text/html": [
       "<div>\n",
       "<style scoped>\n",
       "    .dataframe tbody tr th:only-of-type {\n",
       "        vertical-align: middle;\n",
       "    }\n",
       "\n",
       "    .dataframe tbody tr th {\n",
       "        vertical-align: top;\n",
       "    }\n",
       "\n",
       "    .dataframe thead th {\n",
       "        text-align: right;\n",
       "    }\n",
       "</style>\n",
       "<table border=\"1\" class=\"dataframe\">\n",
       "  <thead>\n",
       "    <tr style=\"text-align: right;\">\n",
       "      <th></th>\n",
       "      <th>sqmiles</th>\n",
       "    </tr>\n",
       "    <tr>\n",
       "      <th>hood</th>\n",
       "      <th></th>\n",
       "    </tr>\n",
       "  </thead>\n",
       "  <tbody>\n",
       "    <tr>\n",
       "      <th>Squirrel Hill South</th>\n",
       "      <td>2.671</td>\n",
       "    </tr>\n",
       "    <tr>\n",
       "      <th>Brookline</th>\n",
       "      <td>2.082</td>\n",
       "    </tr>\n",
       "    <tr>\n",
       "      <th>Carrick</th>\n",
       "      <td>1.673</td>\n",
       "    </tr>\n",
       "    <tr>\n",
       "      <th>Hazelwood</th>\n",
       "      <td>1.583</td>\n",
       "    </tr>\n",
       "    <tr>\n",
       "      <th>Beechview</th>\n",
       "      <td>1.460</td>\n",
       "    </tr>\n",
       "    <tr>\n",
       "      <th>...</th>\n",
       "      <td>...</td>\n",
       "    </tr>\n",
       "    <tr>\n",
       "      <th>Homewood West</th>\n",
       "      <td>0.199</td>\n",
       "    </tr>\n",
       "    <tr>\n",
       "      <th>Regent Square</th>\n",
       "      <td>0.192</td>\n",
       "    </tr>\n",
       "    <tr>\n",
       "      <th>Bedford Dwellings</th>\n",
       "      <td>0.179</td>\n",
       "    </tr>\n",
       "    <tr>\n",
       "      <th>Allegheny West</th>\n",
       "      <td>0.141</td>\n",
       "    </tr>\n",
       "    <tr>\n",
       "      <th>Friendship</th>\n",
       "      <td>0.106</td>\n",
       "    </tr>\n",
       "  </tbody>\n",
       "</table>\n",
       "<p>79 rows × 1 columns</p>\n",
       "</div>"
      ],
      "text/plain": [
       "                     sqmiles\n",
       "hood                        \n",
       "Squirrel Hill South    2.671\n",
       "Brookline              2.082\n",
       "Carrick                1.673\n",
       "Hazelwood              1.583\n",
       "Beechview              1.460\n",
       "...                      ...\n",
       "Homewood West          0.199\n",
       "Regent Square          0.192\n",
       "Bedford Dwellings      0.179\n",
       "Allegheny West         0.141\n",
       "Friendship             0.106\n",
       "\n",
       "[79 rows x 1 columns]"
      ]
     },
     "execution_count": 32,
     "metadata": {},
     "output_type": "execute_result"
    }
   ],
   "source": [
    "pivoted_sqmiles = census.pivot_table(index=\"hood\", values=\"sqmiles\")\n",
    "sorting = pivoted_sqmiles.sort_values(by=\"sqmiles\", ascending=False)\n",
    "sorting"
   ]
  },
  {
   "cell_type": "markdown",
   "metadata": {},
   "source": [
    "We pivoted our data by using the neighborhoods as the index and its square miles as the values. We sorted the square miles in descending order. Squirrel Hill South has the greatest number of square miles.  "
   ]
  },
  {
   "cell_type": "code",
   "execution_count": 33,
   "metadata": {},
   "outputs": [
    {
     "data": {
      "text/html": [
       "<div>\n",
       "<style scoped>\n",
       "    .dataframe tbody tr th:only-of-type {\n",
       "        vertical-align: middle;\n",
       "    }\n",
       "\n",
       "    .dataframe tbody tr th {\n",
       "        vertical-align: top;\n",
       "    }\n",
       "\n",
       "    .dataframe thead th {\n",
       "        text-align: right;\n",
       "    }\n",
       "</style>\n",
       "<table border=\"1\" class=\"dataframe\">\n",
       "  <thead>\n",
       "    <tr style=\"text-align: right;\">\n",
       "      <th></th>\n",
       "      <th>shape_area</th>\n",
       "    </tr>\n",
       "    <tr>\n",
       "      <th>hood</th>\n",
       "      <th></th>\n",
       "    </tr>\n",
       "  </thead>\n",
       "  <tbody>\n",
       "    <tr>\n",
       "      <th>Hazelwood</th>\n",
       "      <td>5.281342e+07</td>\n",
       "    </tr>\n",
       "    <tr>\n",
       "      <th>Windgap</th>\n",
       "      <td>4.212670e+07</td>\n",
       "    </tr>\n",
       "    <tr>\n",
       "      <th>Westwood</th>\n",
       "      <td>2.948787e+07</td>\n",
       "    </tr>\n",
       "    <tr>\n",
       "      <th>Lincoln Place</th>\n",
       "      <td>2.741278e+07</td>\n",
       "    </tr>\n",
       "    <tr>\n",
       "      <th>Banksville</th>\n",
       "      <td>2.699251e+07</td>\n",
       "    </tr>\n",
       "    <tr>\n",
       "      <th>...</th>\n",
       "      <td>...</td>\n",
       "    </tr>\n",
       "    <tr>\n",
       "      <th>Garfield</th>\n",
       "      <td>4.250387e+06</td>\n",
       "    </tr>\n",
       "    <tr>\n",
       "      <th>Central Oakland</th>\n",
       "      <td>3.921498e+06</td>\n",
       "    </tr>\n",
       "    <tr>\n",
       "      <th>Bloomfield</th>\n",
       "      <td>3.914821e+06</td>\n",
       "    </tr>\n",
       "    <tr>\n",
       "      <th>Central Northside</th>\n",
       "      <td>3.609780e+06</td>\n",
       "    </tr>\n",
       "    <tr>\n",
       "      <th>Friendship</th>\n",
       "      <td>2.960456e+06</td>\n",
       "    </tr>\n",
       "  </tbody>\n",
       "</table>\n",
       "<p>79 rows × 1 columns</p>\n",
       "</div>"
      ],
      "text/plain": [
       "                     shape_area\n",
       "hood                           \n",
       "Hazelwood          5.281342e+07\n",
       "Windgap            4.212670e+07\n",
       "Westwood           2.948787e+07\n",
       "Lincoln Place      2.741278e+07\n",
       "Banksville         2.699251e+07\n",
       "...                         ...\n",
       "Garfield           4.250387e+06\n",
       "Central Oakland    3.921498e+06\n",
       "Bloomfield         3.914821e+06\n",
       "Central Northside  3.609780e+06\n",
       "Friendship         2.960456e+06\n",
       "\n",
       "[79 rows x 1 columns]"
      ]
     },
     "execution_count": 33,
     "metadata": {},
     "output_type": "execute_result"
    }
   ],
   "source": [
    "pivoted_shape_area = census.pivot_table(index=\"hood\", values=\"shape_area\")\n",
    "sorting = pivoted_shape_area.sort_values(by=\"shape_area\", ascending=False)\n",
    "sorting"
   ]
  },
  {
   "cell_type": "markdown",
   "metadata": {},
   "source": [
    "We pivoted our data by using the neighborhoods as the index and its area as the values. We sorted the area in descending order. Hazelwood has the greatest area. "
   ]
  },
  {
   "cell_type": "code",
   "execution_count": 34,
   "metadata": {},
   "outputs": [
    {
     "data": {
      "text/html": [
       "<div>\n",
       "<style scoped>\n",
       "    .dataframe tbody tr th:only-of-type {\n",
       "        vertical-align: middle;\n",
       "    }\n",
       "\n",
       "    .dataframe tbody tr th {\n",
       "        vertical-align: top;\n",
       "    }\n",
       "\n",
       "    .dataframe thead th {\n",
       "        text-align: right;\n",
       "    }\n",
       "</style>\n",
       "<table border=\"1\" class=\"dataframe\">\n",
       "  <thead>\n",
       "    <tr style=\"text-align: right;\">\n",
       "      <th></th>\n",
       "      <th>shape_length</th>\n",
       "    </tr>\n",
       "    <tr>\n",
       "      <th>hood</th>\n",
       "      <th></th>\n",
       "    </tr>\n",
       "  </thead>\n",
       "  <tbody>\n",
       "    <tr>\n",
       "      <th>Hazelwood</th>\n",
       "      <td>59285.806755</td>\n",
       "    </tr>\n",
       "    <tr>\n",
       "      <th>Windgap</th>\n",
       "      <td>36403.199308</td>\n",
       "    </tr>\n",
       "    <tr>\n",
       "      <th>Westwood</th>\n",
       "      <td>32824.115522</td>\n",
       "    </tr>\n",
       "    <tr>\n",
       "      <th>Troy Hill</th>\n",
       "      <td>29583.620672</td>\n",
       "    </tr>\n",
       "    <tr>\n",
       "      <th>Oakwood</th>\n",
       "      <td>28692.519333</td>\n",
       "    </tr>\n",
       "    <tr>\n",
       "      <th>...</th>\n",
       "      <td>...</td>\n",
       "    </tr>\n",
       "    <tr>\n",
       "      <th>Homewood West</th>\n",
       "      <td>10086.394631</td>\n",
       "    </tr>\n",
       "    <tr>\n",
       "      <th>Bloomfield</th>\n",
       "      <td>9599.937577</td>\n",
       "    </tr>\n",
       "    <tr>\n",
       "      <th>Garfield</th>\n",
       "      <td>9430.232170</td>\n",
       "    </tr>\n",
       "    <tr>\n",
       "      <th>Central Oakland</th>\n",
       "      <td>9237.844869</td>\n",
       "    </tr>\n",
       "    <tr>\n",
       "      <th>Friendship</th>\n",
       "      <td>7707.157832</td>\n",
       "    </tr>\n",
       "  </tbody>\n",
       "</table>\n",
       "<p>79 rows × 1 columns</p>\n",
       "</div>"
      ],
      "text/plain": [
       "                 shape_length\n",
       "hood                         \n",
       "Hazelwood        59285.806755\n",
       "Windgap          36403.199308\n",
       "Westwood         32824.115522\n",
       "Troy Hill        29583.620672\n",
       "Oakwood          28692.519333\n",
       "...                       ...\n",
       "Homewood West    10086.394631\n",
       "Bloomfield        9599.937577\n",
       "Garfield          9430.232170\n",
       "Central Oakland   9237.844869\n",
       "Friendship        7707.157832\n",
       "\n",
       "[79 rows x 1 columns]"
      ]
     },
     "execution_count": 34,
     "metadata": {},
     "output_type": "execute_result"
    }
   ],
   "source": [
    "pivoted_shape_length = census.pivot_table(index=\"hood\", values=\"shape_length\")\n",
    "sorting = pivoted_shape_length.sort_values(by=\"shape_length\", ascending=False)\n",
    "sorting"
   ]
  },
  {
   "cell_type": "markdown",
   "metadata": {},
   "source": [
    "We pivoted our data by using the neighborhoods as the index and its length as the values. We sorted the length in descending order. Hazelwood has the greatest length. "
   ]
  },
  {
   "cell_type": "code",
   "execution_count": 35,
   "metadata": {},
   "outputs": [
    {
     "data": {
      "text/html": [
       "<div>\n",
       "<style scoped>\n",
       "    .dataframe tbody tr th:only-of-type {\n",
       "        vertical-align: middle;\n",
       "    }\n",
       "\n",
       "    .dataframe tbody tr th {\n",
       "        vertical-align: top;\n",
       "    }\n",
       "\n",
       "    .dataframe thead th {\n",
       "        text-align: right;\n",
       "    }\n",
       "</style>\n",
       "<table border=\"1\" class=\"dataframe\">\n",
       "  <thead>\n",
       "    <tr style=\"text-align: right;\">\n",
       "      <th></th>\n",
       "      <th>acres</th>\n",
       "      <th>shape_area</th>\n",
       "      <th>shape_length</th>\n",
       "      <th>sqmiles</th>\n",
       "    </tr>\n",
       "    <tr>\n",
       "      <th>hood</th>\n",
       "      <th></th>\n",
       "      <th></th>\n",
       "      <th></th>\n",
       "      <th></th>\n",
       "    </tr>\n",
       "  </thead>\n",
       "  <tbody>\n",
       "    <tr>\n",
       "      <th>Squirrel Hill South</th>\n",
       "      <td>1717.485</td>\n",
       "      <td>1.489448e+07</td>\n",
       "      <td>19258.367382</td>\n",
       "      <td>2.671</td>\n",
       "    </tr>\n",
       "    <tr>\n",
       "      <th>Brookline</th>\n",
       "      <td>1338.669</td>\n",
       "      <td>1.449720e+07</td>\n",
       "      <td>19419.214771</td>\n",
       "      <td>2.082</td>\n",
       "    </tr>\n",
       "    <tr>\n",
       "      <th>Carrick</th>\n",
       "      <td>1075.670</td>\n",
       "      <td>1.554573e+07</td>\n",
       "      <td>23258.623583</td>\n",
       "      <td>1.673</td>\n",
       "    </tr>\n",
       "    <tr>\n",
       "      <th>Hazelwood</th>\n",
       "      <td>1017.805</td>\n",
       "      <td>5.281342e+07</td>\n",
       "      <td>59285.806755</td>\n",
       "      <td>1.583</td>\n",
       "    </tr>\n",
       "    <tr>\n",
       "      <th>Beechview</th>\n",
       "      <td>938.804</td>\n",
       "      <td>2.035204e+07</td>\n",
       "      <td>22046.326835</td>\n",
       "      <td>1.460</td>\n",
       "    </tr>\n",
       "    <tr>\n",
       "      <th>...</th>\n",
       "      <td>...</td>\n",
       "      <td>...</td>\n",
       "      <td>...</td>\n",
       "      <td>...</td>\n",
       "    </tr>\n",
       "    <tr>\n",
       "      <th>Homewood West</th>\n",
       "      <td>127.819</td>\n",
       "      <td>5.548059e+06</td>\n",
       "      <td>10086.394631</td>\n",
       "      <td>0.199</td>\n",
       "    </tr>\n",
       "    <tr>\n",
       "      <th>Regent Square</th>\n",
       "      <td>123.682</td>\n",
       "      <td>5.360984e+06</td>\n",
       "      <td>16004.734291</td>\n",
       "      <td>0.192</td>\n",
       "    </tr>\n",
       "    <tr>\n",
       "      <th>Bedford Dwellings</th>\n",
       "      <td>115.252</td>\n",
       "      <td>4.997845e+06</td>\n",
       "      <td>14216.964709</td>\n",
       "      <td>0.179</td>\n",
       "    </tr>\n",
       "    <tr>\n",
       "      <th>Allegheny West</th>\n",
       "      <td>90.841</td>\n",
       "      <td>9.770255e+06</td>\n",
       "      <td>14096.961772</td>\n",
       "      <td>0.141</td>\n",
       "    </tr>\n",
       "    <tr>\n",
       "      <th>Friendship</th>\n",
       "      <td>68.297</td>\n",
       "      <td>2.960456e+06</td>\n",
       "      <td>7707.157832</td>\n",
       "      <td>0.106</td>\n",
       "    </tr>\n",
       "  </tbody>\n",
       "</table>\n",
       "<p>79 rows × 4 columns</p>\n",
       "</div>"
      ],
      "text/plain": [
       "                        acres    shape_area  shape_length  sqmiles\n",
       "hood                                                              \n",
       "Squirrel Hill South  1717.485  1.489448e+07  19258.367382    2.671\n",
       "Brookline            1338.669  1.449720e+07  19419.214771    2.082\n",
       "Carrick              1075.670  1.554573e+07  23258.623583    1.673\n",
       "Hazelwood            1017.805  5.281342e+07  59285.806755    1.583\n",
       "Beechview             938.804  2.035204e+07  22046.326835    1.460\n",
       "...                       ...           ...           ...      ...\n",
       "Homewood West         127.819  5.548059e+06  10086.394631    0.199\n",
       "Regent Square         123.682  5.360984e+06  16004.734291    0.192\n",
       "Bedford Dwellings     115.252  4.997845e+06  14216.964709    0.179\n",
       "Allegheny West         90.841  9.770255e+06  14096.961772    0.141\n",
       "Friendship             68.297  2.960456e+06   7707.157832    0.106\n",
       "\n",
       "[79 rows x 4 columns]"
      ]
     },
     "execution_count": 35,
     "metadata": {},
     "output_type": "execute_result"
    }
   ],
   "source": [
    "pivoted_census = census.pivot_table(index=\"hood\", values=[\"acres\", \"sqmiles\", \"shape_area\", \"shape_length\"])\n",
    "sorting = pivoted_census.sort_values(by= [\"acres\", \"sqmiles\", \"shape_area\", \"shape_length\"], ascending=False)\n",
    "sorting"
   ]
  },
  {
   "cell_type": "markdown",
   "metadata": {},
   "source": [
    "We created a new pivoted dataset to illustrate the information we discovered in a more organized format. Based on the data, Squirrel Hill South is the \"best neighborhood\" for a penguin to reside in because it contains the most space. "
   ]
  },
  {
   "cell_type": "code",
   "execution_count": 36,
   "metadata": {},
   "outputs": [
    {
     "data": {
      "text/html": [
       "<div>\n",
       "<style scoped>\n",
       "    .dataframe tbody tr th:only-of-type {\n",
       "        vertical-align: middle;\n",
       "    }\n",
       "\n",
       "    .dataframe tbody tr th {\n",
       "        vertical-align: top;\n",
       "    }\n",
       "\n",
       "    .dataframe thead th {\n",
       "        text-align: right;\n",
       "    }\n",
       "</style>\n",
       "<table border=\"1\" class=\"dataframe\">\n",
       "  <thead>\n",
       "    <tr style=\"text-align: right;\">\n",
       "      <th></th>\n",
       "      <th>acres</th>\n",
       "    </tr>\n",
       "  </thead>\n",
       "  <tbody>\n",
       "    <tr>\n",
       "      <th>66</th>\n",
       "      <td>8587.425</td>\n",
       "    </tr>\n",
       "    <tr>\n",
       "      <th>10</th>\n",
       "      <td>5354.676</td>\n",
       "    </tr>\n",
       "    <tr>\n",
       "      <th>12</th>\n",
       "      <td>3227.010</td>\n",
       "    </tr>\n",
       "    <tr>\n",
       "      <th>37</th>\n",
       "      <td>3134.724</td>\n",
       "    </tr>\n",
       "    <tr>\n",
       "      <th>57</th>\n",
       "      <td>2960.520</td>\n",
       "    </tr>\n",
       "  </tbody>\n",
       "</table>\n",
       "</div>"
      ],
      "text/plain": [
       "       acres\n",
       "66  8587.425\n",
       "10  5354.676\n",
       "12  3227.010\n",
       "37  3134.724\n",
       "57  2960.520"
      ]
     },
     "execution_count": 36,
     "metadata": {},
     "output_type": "execute_result"
    }
   ],
   "source": [
    "neighborhood = census.groupby(\"hood\", as_index =False)['acres'].sum().sort_values(['acres'],ascending=False)\n",
    "neighborhood.head()"
   ]
  },
  {
   "cell_type": "code",
   "execution_count": 24,
   "metadata": {},
   "outputs": [
    {
     "data": {
      "text/html": [
       "<div>\n",
       "<style scoped>\n",
       "    .dataframe tbody tr th:only-of-type {\n",
       "        vertical-align: middle;\n",
       "    }\n",
       "\n",
       "    .dataframe tbody tr th {\n",
       "        vertical-align: top;\n",
       "    }\n",
       "\n",
       "    .dataframe thead th {\n",
       "        text-align: right;\n",
       "    }\n",
       "</style>\n",
       "<table border=\"1\" class=\"dataframe\">\n",
       "  <thead>\n",
       "    <tr style=\"text-align: right;\">\n",
       "      <th></th>\n",
       "      <th>hood</th>\n",
       "      <th>sqmiles</th>\n",
       "      <th>geometry</th>\n",
       "    </tr>\n",
       "  </thead>\n",
       "  <tbody>\n",
       "    <tr>\n",
       "      <th>0</th>\n",
       "      <td>Central Oakland</td>\n",
       "      <td>0.281</td>\n",
       "      <td>POLYGON ((-79.95304 40.44203, -79.95302 40.442...</td>\n",
       "    </tr>\n",
       "    <tr>\n",
       "      <th>1</th>\n",
       "      <td>North Oakland</td>\n",
       "      <td>0.499</td>\n",
       "      <td>POLYGON ((-79.94727 40.44703, -79.94716 40.446...</td>\n",
       "    </tr>\n",
       "    <tr>\n",
       "      <th>2</th>\n",
       "      <td>West Oakland</td>\n",
       "      <td>0.215</td>\n",
       "      <td>POLYGON ((-79.96230 40.44294, -79.96220 40.442...</td>\n",
       "    </tr>\n",
       "    <tr>\n",
       "      <th>3</th>\n",
       "      <td>Crawford-Roberts</td>\n",
       "      <td>0.258</td>\n",
       "      <td>POLYGON ((-79.98275 40.44641, -79.98273 40.446...</td>\n",
       "    </tr>\n",
       "    <tr>\n",
       "      <th>4</th>\n",
       "      <td>Lincoln-Lemington-Belmar</td>\n",
       "      <td>0.280</td>\n",
       "      <td>POLYGON ((-79.88460 40.49066, -79.88451 40.486...</td>\n",
       "    </tr>\n",
       "  </tbody>\n",
       "</table>\n",
       "</div>"
      ],
      "text/plain": [
       "                       hood  sqmiles  \\\n",
       "0           Central Oakland    0.281   \n",
       "1             North Oakland    0.499   \n",
       "2              West Oakland    0.215   \n",
       "3          Crawford-Roberts    0.258   \n",
       "4  Lincoln-Lemington-Belmar    0.280   \n",
       "\n",
       "                                            geometry  \n",
       "0  POLYGON ((-79.95304 40.44203, -79.95302 40.442...  \n",
       "1  POLYGON ((-79.94727 40.44703, -79.94716 40.446...  \n",
       "2  POLYGON ((-79.96230 40.44294, -79.96220 40.442...  \n",
       "3  POLYGON ((-79.98275 40.44641, -79.98273 40.446...  \n",
       "4  POLYGON ((-79.88460 40.49066, -79.88451 40.486...  "
      ]
     },
     "execution_count": 24,
     "metadata": {},
     "output_type": "execute_result"
    }
   ],
   "source": [
    "#Merging the map with the data\n",
    "census = geopandas.read_file(\"CensusShape/2010_Census_Tracts.shp\") # read in the shapefile\n",
    "censusMerge = census.merge(neighborhood, how='left', left_on='hood', right_on='hood')\n",
    "censusMerge[['hood','sqmiles','geometry']].head()"
   ]
  },
  {
   "cell_type": "markdown",
   "metadata": {},
   "source": [
    "We used geopandas to plot the census data on a map. "
   ]
  },
  {
   "cell_type": "code",
   "execution_count": 25,
   "metadata": {},
   "outputs": [
    {
     "data": {
      "text/plain": [
       "<matplotlib.axes._subplots.AxesSubplot at 0x7fe58d566160>"
      ]
     },
     "execution_count": 25,
     "metadata": {},
     "output_type": "execute_result"
    },
    {
     "data": {
      "image/png": "[encoded data removed]",
      "text/plain": [
       "<Figure size 432x288 with 2 Axes>"
      ]
     },
     "metadata": {
      "needs_background": "light"
     },
     "output_type": "display_data"
    }
   ],
   "source": [
    "censusMerge.plot(column='sqmiles',cmap='OrRd', legend=True)"
   ]
  },
  {
   "cell_type": "markdown",
   "metadata": {},
   "source": [
    "We colored the census map to visualize the areas of Pittsburgh that fit our criteria the best. The neighborhoods with the most space are highlighted with the darker colors on the map. "
   ]
  },
  {
   "cell_type": "markdown",
   "metadata": {},
   "source": [
    "According to this metric of area in each neighborhood, the best neighborhood for a penguin to live in is Squirrel Hill South. "
   ]
  },
  {
   "cell_type": "markdown",
   "metadata": {},
   "source": [
    "## Discovering the \"best neighborhood\""
   ]
  },
  {
   "cell_type": "code",
   "execution_count": 59,
   "metadata": {},
   "outputs": [
    {
     "data": {
      "text/plain": [
       "neighborhood\n",
       "Highland Park        560242.0\n",
       "Bedford Dwellings    538000.0\n",
       "Brookline            417657.0\n",
       "Mount Washington     356000.0\n",
       "Bloomfield           335000.0\n",
       "South Side Flats     312800.0\n",
       "Sheraden             278000.0\n",
       "Allegheny Center     271000.0\n",
       "Carrick              224100.0\n",
       "Polish Hill          215451.0\n",
       "Name: capacity, dtype: float64"
      ]
     },
     "execution_count": 59,
     "metadata": {},
     "output_type": "execute_result"
    }
   ],
   "source": [
    "capacity_data = data.groupby(\"neighborhood\").sum()['capacity']\n",
    "sorted_capacity_data = capacity_data.sort_values(ascending=False)\n",
    "sorted_capacity_data.head(10)"
   ]
  },
  {
   "cell_type": "code",
   "execution_count": 47,
   "metadata": {},
   "outputs": [
    {
     "data": {
      "text/html": [
       "<div>\n",
       "<style scoped>\n",
       "    .dataframe tbody tr th:only-of-type {\n",
       "        vertical-align: middle;\n",
       "    }\n",
       "\n",
       "    .dataframe tbody tr th {\n",
       "        vertical-align: top;\n",
       "    }\n",
       "\n",
       "    .dataframe thead th {\n",
       "        text-align: right;\n",
       "    }\n",
       "</style>\n",
       "<table border=\"1\" class=\"dataframe\">\n",
       "  <thead>\n",
       "    <tr style=\"text-align: right;\">\n",
       "      <th></th>\n",
       "      <th>updatepknm</th>\n",
       "      <th>acreage</th>\n",
       "    </tr>\n",
       "  </thead>\n",
       "  <tbody>\n",
       "    <tr>\n",
       "      <th>93</th>\n",
       "      <td>Hays Woods</td>\n",
       "      <td>637.409429</td>\n",
       "    </tr>\n",
       "    <tr>\n",
       "      <th>81</th>\n",
       "      <td>Frick Park</td>\n",
       "      <td>606.639071</td>\n",
       "    </tr>\n",
       "    <tr>\n",
       "      <th>171</th>\n",
       "      <td>Schenley Park</td>\n",
       "      <td>434.082623</td>\n",
       "    </tr>\n",
       "    <tr>\n",
       "      <th>99</th>\n",
       "      <td>Highland Park</td>\n",
       "      <td>377.910577</td>\n",
       "    </tr>\n",
       "    <tr>\n",
       "      <th>165</th>\n",
       "      <td>Riverview Park</td>\n",
       "      <td>258.604289</td>\n",
       "    </tr>\n",
       "    <tr>\n",
       "      <th>64</th>\n",
       "      <td>Emerald View Regional Park</td>\n",
       "      <td>171.817975</td>\n",
       "    </tr>\n",
       "    <tr>\n",
       "      <th>95</th>\n",
       "      <td>Hazelwood Park</td>\n",
       "      <td>139.415652</td>\n",
       "    </tr>\n",
       "    <tr>\n",
       "      <th>173</th>\n",
       "      <td>Seldom Seen Park</td>\n",
       "      <td>80.212657</td>\n",
       "    </tr>\n",
       "    <tr>\n",
       "      <th>131</th>\n",
       "      <td>McKinley Park</td>\n",
       "      <td>77.832554</td>\n",
       "    </tr>\n",
       "    <tr>\n",
       "      <th>3</th>\n",
       "      <td>Allegheny Commons</td>\n",
       "      <td>61.385906</td>\n",
       "    </tr>\n",
       "  </tbody>\n",
       "</table>\n",
       "</div>"
      ],
      "text/plain": [
       "                     updatepknm     acreage\n",
       "93                   Hays Woods  637.409429\n",
       "81                   Frick Park  606.639071\n",
       "171               Schenley Park  434.082623\n",
       "99                Highland Park  377.910577\n",
       "165              Riverview Park  258.604289\n",
       "64   Emerald View Regional Park  171.817975\n",
       "95               Hazelwood Park  139.415652\n",
       "173            Seldom Seen Park   80.212657\n",
       "131               McKinley Park   77.832554\n",
       "3             Allegheny Commons   61.385906"
      ]
     },
     "execution_count": 47,
     "metadata": {},
     "output_type": "execute_result"
    }
   ],
   "source": [
    "acre = data.groupby(\"updatepknm\", as_index =False)['acreage'].sum().sort_values(['acreage'],ascending=False)\n",
    "acre['acreage']=acre['acreage'].astype(object)\n",
    "acre.head(10)"
   ]
  },
  {
   "cell_type": "code",
   "execution_count": 52,
   "metadata": {},
   "outputs": [
    {
     "data": {
      "text/html": [
       "<div>\n",
       "<style scoped>\n",
       "    .dataframe tbody tr th:only-of-type {\n",
       "        vertical-align: middle;\n",
       "    }\n",
       "\n",
       "    .dataframe tbody tr th {\n",
       "        vertical-align: top;\n",
       "    }\n",
       "\n",
       "    .dataframe thead th {\n",
       "        text-align: right;\n",
       "    }\n",
       "</style>\n",
       "<table border=\"1\" class=\"dataframe\">\n",
       "  <thead>\n",
       "    <tr style=\"text-align: right;\">\n",
       "      <th></th>\n",
       "      <th>acres</th>\n",
       "      <th>shape_area</th>\n",
       "      <th>shape_length</th>\n",
       "      <th>sqmiles</th>\n",
       "    </tr>\n",
       "    <tr>\n",
       "      <th>hood</th>\n",
       "      <th></th>\n",
       "      <th></th>\n",
       "      <th></th>\n",
       "      <th></th>\n",
       "    </tr>\n",
       "  </thead>\n",
       "  <tbody>\n",
       "    <tr>\n",
       "      <th>Squirrel Hill South</th>\n",
       "      <td>1717.485</td>\n",
       "      <td>1.489448e+07</td>\n",
       "      <td>19258.367382</td>\n",
       "      <td>2.671</td>\n",
       "    </tr>\n",
       "    <tr>\n",
       "      <th>Brookline</th>\n",
       "      <td>1338.669</td>\n",
       "      <td>1.449720e+07</td>\n",
       "      <td>19419.214771</td>\n",
       "      <td>2.082</td>\n",
       "    </tr>\n",
       "    <tr>\n",
       "      <th>Carrick</th>\n",
       "      <td>1075.670</td>\n",
       "      <td>1.554573e+07</td>\n",
       "      <td>23258.623583</td>\n",
       "      <td>1.673</td>\n",
       "    </tr>\n",
       "    <tr>\n",
       "      <th>Hazelwood</th>\n",
       "      <td>1017.805</td>\n",
       "      <td>5.281342e+07</td>\n",
       "      <td>59285.806755</td>\n",
       "      <td>1.583</td>\n",
       "    </tr>\n",
       "    <tr>\n",
       "      <th>Beechview</th>\n",
       "      <td>938.804</td>\n",
       "      <td>2.035204e+07</td>\n",
       "      <td>22046.326835</td>\n",
       "      <td>1.460</td>\n",
       "    </tr>\n",
       "    <tr>\n",
       "      <th>Squirrel Hill North</th>\n",
       "      <td>785.948</td>\n",
       "      <td>1.135913e+07</td>\n",
       "      <td>14932.144807</td>\n",
       "      <td>1.222</td>\n",
       "    </tr>\n",
       "    <tr>\n",
       "      <th>Lincoln-Lemington-Belmar</th>\n",
       "      <td>783.681</td>\n",
       "      <td>1.261502e+07</td>\n",
       "      <td>18249.723970</td>\n",
       "      <td>1.219</td>\n",
       "    </tr>\n",
       "    <tr>\n",
       "      <th>Perry North</th>\n",
       "      <td>779.088</td>\n",
       "      <td>1.124402e+07</td>\n",
       "      <td>23868.221135</td>\n",
       "      <td>1.212</td>\n",
       "    </tr>\n",
       "    <tr>\n",
       "      <th>Highland Park</th>\n",
       "      <td>747.691</td>\n",
       "      <td>1.080660e+07</td>\n",
       "      <td>17123.923318</td>\n",
       "      <td>1.163</td>\n",
       "    </tr>\n",
       "    <tr>\n",
       "      <th>Mount Washington</th>\n",
       "      <td>732.495</td>\n",
       "      <td>7.941314e+06</td>\n",
       "      <td>16294.616493</td>\n",
       "      <td>1.139</td>\n",
       "    </tr>\n",
       "  </tbody>\n",
       "</table>\n",
       "</div>"
      ],
      "text/plain": [
       "                             acres    shape_area  shape_length  sqmiles\n",
       "hood                                                                   \n",
       "Squirrel Hill South       1717.485  1.489448e+07  19258.367382    2.671\n",
       "Brookline                 1338.669  1.449720e+07  19419.214771    2.082\n",
       "Carrick                   1075.670  1.554573e+07  23258.623583    1.673\n",
       "Hazelwood                 1017.805  5.281342e+07  59285.806755    1.583\n",
       "Beechview                  938.804  2.035204e+07  22046.326835    1.460\n",
       "Squirrel Hill North        785.948  1.135913e+07  14932.144807    1.222\n",
       "Lincoln-Lemington-Belmar   783.681  1.261502e+07  18249.723970    1.219\n",
       "Perry North                779.088  1.124402e+07  23868.221135    1.212\n",
       "Highland Park              747.691  1.080660e+07  17123.923318    1.163\n",
       "Mount Washington           732.495  7.941314e+06  16294.616493    1.139"
      ]
     },
     "execution_count": 52,
     "metadata": {},
     "output_type": "execute_result"
    }
   ],
   "source": [
    "sorting = pivoted_census.sort_values(by= [\"acres\", \"sqmiles\", \"shape_area\", \"shape_length\"], ascending=False)\n",
    "sorting.head(10)"
   ]
  },
  {
   "cell_type": "markdown",
   "metadata": {},
   "source": [
    "We displayed the first 10 rows of all three simplified subsets. "
   ]
  },
  {
   "cell_type": "markdown",
   "metadata": {},
   "source": [
    "Highland Park ranks 1st in the pool capacities dataset, 4th in the parks dataset, and 9th in census dataset. Although Hazelwood ranks higher than Highland Park in the census dataset, Highland Park is classified higher in both the pool capacities and park datasets. "
   ]
  },
  {
   "cell_type": "markdown",
   "metadata": {},
   "source": [
    "Therefore, Highland park in the \"best neighborhood\" for a penguin to live in because it has the highest capacity pool, is one of the largest neighborhoods, and contains one of the largest parks for a penguin to live in."
   ]
  },
  {
   "cell_type": "markdown",
   "metadata": {},
   "source": [
    "## Conclusion"
   ]
  },
  {
   "cell_type": "markdown",
   "metadata": {},
   "source": [
    "Anushka - Based on my subset, I discovered that Highland Park has the pool with the greatest capacity for a penguin to swim in. Additionally, since we worked on the third dataset together, Squirrel Hill South was actually the \"best neighborhood\" because it possessed the greatest size for a penguin to roam around in. However, our determination of the “best neighborhood” is the same as my personal favorite neighborhood because I worked on the pool capacity dataset individually, which is why Highland Park is the \"best neighborhood\"."
   ]
  },
  {
   "cell_type": "markdown",
   "metadata": {},
   "source": [
    "Rin - The subset I worked on was measuring the largest parks near the neighborhoods, so that penguins could go out to forage for nesting materials and rocks. The neighborhood that best fit this metric turned out to be Hays. Anushka and I worked together on the next dataset, which looked at the size of the neighborhoods. This resulted in Squirrel Hill South being the best neighborhood to live in. All together, however, Highland Park was determined to be the best neighborhood since it is the neighborhood that sits fairly high on all of the rankings put together. "
   ]
  },
  {
   "cell_type": "code",
   "execution_count": null,
   "metadata": {},
   "outputs": [],
   "source": []
  },
  {
   "cell_type": "markdown",
   "metadata": {},
   "source": [
    "## Introduction ##\n",
    "Earning the title for the best neighborhood in Pittsburgh is difficult, as there are many great areas in the city. In our case, we are searching for the best neighborhood for Penguins to live. We came up with this metic when deciding on a name. We asked Chat GPT initally, but none of the names meshed well with us. We then decided to be named after a simple animal, with the AI giving us \"penguins.\" Thus, both our team name and metric were born. This was our first idea, so we decided to run with it rather than spending a lot of time coming up with ideas."
   ]
  }
 ],
 "metadata": {
  "kernelspec": {
   "display_name": "Python 3",
   "language": "python",
   "name": "python3"
  },
  "language_info": {
   "codemirror_mode": {
    "name": "ipython",
    "version": 3
   },
   "file_extension": ".py",
   "mimetype": "text/x-python",
   "name": "python",
   "nbconvert_exporter": "python",
   "pygments_lexer": "ipython3",
   "version": "3.8.3"
  }
 },
 "nbformat": 4,
 "nbformat_minor": 4
}
